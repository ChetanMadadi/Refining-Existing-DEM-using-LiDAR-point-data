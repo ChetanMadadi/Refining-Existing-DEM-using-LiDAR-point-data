{
  "nbformat": 4,
  "nbformat_minor": 0,
  "metadata": {
    "colab": {
      "name": "RidgeRegression.ipynb",
      "provenance": [],
      "collapsed_sections": []
    },
    "kernelspec": {
      "display_name": "Python 3",
      "name": "python3"
    },
    "language_info": {
      "name": "python"
    }
  },
  "cells": [
    {
      "cell_type": "code",
      "metadata": {
        "id": "Yn0MuVKEe9dP"
      },
      "source": [
        "import os\n",
        "import glob\n",
        "from osgeo import osr,gdal\n",
        "import numpy as np\n",
        "import pandas as pd\n",
        "import matplotlib.pyplot as plt\n",
        "# !pip install ipython-autotime\n",
        "# %load_ext autotime"
      ],
      "execution_count": null,
      "outputs": []
    },
    {
      "cell_type": "code",
      "metadata": {
        "colab": {
          "base_uri": "https://localhost:8080/"
        },
        "id": "HYxE_R3le-t5",
        "outputId": "89fc036d-677b-490b-b60b-802830c55d98"
      },
      "source": [
        "from google.colab import drive\n",
        "drive.mount('/content/drive')"
      ],
      "execution_count": null,
      "outputs": [
        {
          "output_type": "stream",
          "text": [
            "Drive already mounted at /content/drive; to attempt to forcibly remount, call drive.mount(\"/content/drive\", force_remount=True).\n"
          ],
          "name": "stdout"
        }
      ]
    },
    {
      "cell_type": "code",
      "metadata": {
        "colab": {
          "base_uri": "https://localhost:8080/"
        },
        "id": "axzRT-8TfAG0",
        "outputId": "9642c408-a098-404e-b531-b5b6ddd12b16"
      },
      "source": [
        "photon_df = pd.read_csv(\"/content/drive/My Drive/PS/PS Data/Badrinath/final.csv\", index_col=0)"
      ],
      "execution_count": null,
      "outputs": [
        {
          "output_type": "stream",
          "text": [
            "/usr/local/lib/python3.7/dist-packages/numpy/lib/arraysetops.py:580: FutureWarning: elementwise comparison failed; returning scalar instead, but in the future will perform elementwise comparison\n",
            "  mask |= (ar1 == a)\n"
          ],
          "name": "stderr"
        }
      ]
    },
    {
      "cell_type": "code",
      "metadata": {
        "colab": {
          "base_uri": "https://localhost:8080/"
        },
        "id": "b4SHFNPEfCRp",
        "outputId": "01840b50-81f4-4e73-e6b8-3f4c055dd8f7"
      },
      "source": [
        "ds = gdal.Open(\"/content/drive/My Drive/PS/PS Data/Badrinath/Badrinath_SRTMGL1Ellip.tif\")\n",
        "transform = ds.GetGeoTransform()\n",
        "band = ds.GetRasterBand(1)\n",
        "array = band.ReadAsArray()\n",
        " \n",
        "#plt.imshow(array)\n",
        "array"
      ],
      "execution_count": null,
      "outputs": [
        {
          "output_type": "execute_result",
          "data": {
            "text/plain": [
              "array([[5513.8896, 5518.893 , 5483.8965, ..., 5034.974 , 5032.974 ,\n",
              "        5030.9736],\n",
              "       [5495.89  , 5506.894 , 5494.8975, ..., 5032.976 , 5033.976 ,\n",
              "        5034.9756],\n",
              "       [5483.891 , 5496.8945, 5507.898 , ..., 5028.978 , 5030.978 ,\n",
              "        5037.9775],\n",
              "       ...,\n",
              "       [2727.66  , 2717.6643, 2705.669 , ..., 3450.6377, 3419.6375,\n",
              "        3394.6375],\n",
              "       [2711.6582, 2698.6626, 2681.6672, ..., 3424.6367, 3400.6367,\n",
              "        3389.6367],\n",
              "       [2698.6565, 2666.6611, 2658.6655, ..., 3408.636 , 3390.636 ,\n",
              "        3374.6357]], dtype=float32)"
            ]
          },
          "metadata": {
            "tags": []
          },
          "execution_count": 4
        }
      ]
    },
    {
      "cell_type": "code",
      "metadata": {
        "colab": {
          "base_uri": "https://localhost:8080/"
        },
        "id": "uAlSivkkfLD1",
        "outputId": "69eb6fff-2fd9-4482-a378-9a55c454e2d6"
      },
      "source": [
        "width = ds.RasterXSize\n",
        "height = ds.RasterYSize\n",
        "print(width)\n",
        "print(height)"
      ],
      "execution_count": null,
      "outputs": [
        {
          "output_type": "stream",
          "text": [
            "1196\n",
            "771\n"
          ],
          "name": "stdout"
        }
      ]
    },
    {
      "cell_type": "code",
      "metadata": {
        "id": "Wwq5pxKMfM1O"
      },
      "source": [
        "gt = ds.GetGeoTransform()"
      ],
      "execution_count": null,
      "outputs": []
    },
    {
      "cell_type": "code",
      "metadata": {
        "id": "hhzHnG_TfObW"
      },
      "source": [
        "origin_x = gt[0]\n",
        "origin_y = gt[3]\n",
        "pixel_res_x = gt[1]\n",
        "pixel_res_y = gt[5]"
      ],
      "execution_count": null,
      "outputs": []
    },
    {
      "cell_type": "code",
      "metadata": {
        "id": "tHOGHTsWfSM_"
      },
      "source": [
        "def latitude(n):\n",
        "    return origin_y + (n/width * pixel_res_y)\n",
        "def longitude(n):\n",
        "    return origin_x + (n%width * pixel_res_x)"
      ],
      "execution_count": null,
      "outputs": []
    },
    {
      "cell_type": "code",
      "metadata": {
        "id": "G1ayMPYpfUdn"
      },
      "source": [
        "array = np.array(array)\n",
        "array = array.flatten()\n",
        "dem_df = pd.DataFrame(data = array,columns = ['dem height'])\n",
        "dem_df['index1']=dem_df.index\n",
        "dem_df['latitude'] = dem_df.index1.apply(latitude)\n",
        "dem_df['longitude'] = dem_df.index1.apply(longitude)\n",
        "dem_df = dem_df.drop(['index1'],axis=1)\n",
        "dem_df = dem_df[['latitude','longitude','dem height']]"
      ],
      "execution_count": null,
      "outputs": []
    },
    {
      "cell_type": "code",
      "metadata": {
        "colab": {
          "base_uri": "https://localhost:8080/",
          "height": 417
        },
        "id": "aZ7E5A5afU9E",
        "outputId": "86df60f1-8732-45ae-ce12-a82e3a180c62"
      },
      "source": [
        "dem_df"
      ],
      "execution_count": null,
      "outputs": [
        {
          "output_type": "execute_result",
          "data": {
            "text/html": [
              "<div>\n",
              "<style scoped>\n",
              "    .dataframe tbody tr th:only-of-type {\n",
              "        vertical-align: middle;\n",
              "    }\n",
              "\n",
              "    .dataframe tbody tr th {\n",
              "        vertical-align: top;\n",
              "    }\n",
              "\n",
              "    .dataframe thead th {\n",
              "        text-align: right;\n",
              "    }\n",
              "</style>\n",
              "<table border=\"1\" class=\"dataframe\">\n",
              "  <thead>\n",
              "    <tr style=\"text-align: right;\">\n",
              "      <th></th>\n",
              "      <th>latitude</th>\n",
              "      <th>longitude</th>\n",
              "      <th>dem height</th>\n",
              "    </tr>\n",
              "  </thead>\n",
              "  <tbody>\n",
              "    <tr>\n",
              "      <th>0</th>\n",
              "      <td>30.880694</td>\n",
              "      <td>79.206806</td>\n",
              "      <td>5513.889648</td>\n",
              "    </tr>\n",
              "    <tr>\n",
              "      <th>1</th>\n",
              "      <td>30.880694</td>\n",
              "      <td>79.207083</td>\n",
              "      <td>5518.893066</td>\n",
              "    </tr>\n",
              "    <tr>\n",
              "      <th>2</th>\n",
              "      <td>30.880694</td>\n",
              "      <td>79.207361</td>\n",
              "      <td>5483.896484</td>\n",
              "    </tr>\n",
              "    <tr>\n",
              "      <th>3</th>\n",
              "      <td>30.880694</td>\n",
              "      <td>79.207639</td>\n",
              "      <td>5457.899902</td>\n",
              "    </tr>\n",
              "    <tr>\n",
              "      <th>4</th>\n",
              "      <td>30.880694</td>\n",
              "      <td>79.207917</td>\n",
              "      <td>5441.903809</td>\n",
              "    </tr>\n",
              "    <tr>\n",
              "      <th>...</th>\n",
              "      <td>...</td>\n",
              "      <td>...</td>\n",
              "      <td>...</td>\n",
              "    </tr>\n",
              "    <tr>\n",
              "      <th>922111</th>\n",
              "      <td>30.666529</td>\n",
              "      <td>79.537639</td>\n",
              "      <td>3450.636230</td>\n",
              "    </tr>\n",
              "    <tr>\n",
              "      <th>922112</th>\n",
              "      <td>30.666529</td>\n",
              "      <td>79.537917</td>\n",
              "      <td>3434.635986</td>\n",
              "    </tr>\n",
              "    <tr>\n",
              "      <th>922113</th>\n",
              "      <td>30.666528</td>\n",
              "      <td>79.538194</td>\n",
              "      <td>3408.635986</td>\n",
              "    </tr>\n",
              "    <tr>\n",
              "      <th>922114</th>\n",
              "      <td>30.666528</td>\n",
              "      <td>79.538472</td>\n",
              "      <td>3390.635986</td>\n",
              "    </tr>\n",
              "    <tr>\n",
              "      <th>922115</th>\n",
              "      <td>30.666528</td>\n",
              "      <td>79.538750</td>\n",
              "      <td>3374.635742</td>\n",
              "    </tr>\n",
              "  </tbody>\n",
              "</table>\n",
              "<p>922116 rows × 3 columns</p>\n",
              "</div>"
            ],
            "text/plain": [
              "         latitude  longitude   dem height\n",
              "0       30.880694  79.206806  5513.889648\n",
              "1       30.880694  79.207083  5518.893066\n",
              "2       30.880694  79.207361  5483.896484\n",
              "3       30.880694  79.207639  5457.899902\n",
              "4       30.880694  79.207917  5441.903809\n",
              "...           ...        ...          ...\n",
              "922111  30.666529  79.537639  3450.636230\n",
              "922112  30.666529  79.537917  3434.635986\n",
              "922113  30.666528  79.538194  3408.635986\n",
              "922114  30.666528  79.538472  3390.635986\n",
              "922115  30.666528  79.538750  3374.635742\n",
              "\n",
              "[922116 rows x 3 columns]"
            ]
          },
          "metadata": {
            "tags": []
          },
          "execution_count": 10
        }
      ]
    },
    {
      "cell_type": "code",
      "metadata": {
        "id": "blI3E6T8fYpq"
      },
      "source": [
        "def get_latitude_index(lat):\n",
        "  return int((lat-origin_y)/pixel_res_y)\n",
        "\n",
        "def get_longitude_index(lon):\n",
        "  return int((lon-origin_x)/pixel_res_x)\n",
        "\n",
        "def get_high_res_latitude_index(lat):\n",
        "  return int((lat-origin_y)/(pixel_res_y/3))\n",
        "\n",
        "def get_high_res_longitude_index(lon):\n",
        "  return int((lon-origin_x)/(pixel_res_x/3))"
      ],
      "execution_count": null,
      "outputs": []
    },
    {
      "cell_type": "code",
      "metadata": {
        "id": "tzNndCpIfZYE"
      },
      "source": [
        "photon_df['latitude_index']= photon_df.latitude.apply(get_latitude_index)\n",
        "photon_df['longitude_index']= photon_df.longitude.apply(get_longitude_index)\n",
        "photon_df['latitude_index2']= photon_df.latitude.apply(get_high_res_latitude_index)\n",
        "photon_df['longitude_index2']= photon_df.longitude.apply(get_high_res_longitude_index)"
      ],
      "execution_count": null,
      "outputs": []
    },
    {
      "cell_type": "code",
      "metadata": {
        "id": "slrI-qJCfcpe"
      },
      "source": [
        "photon_df['container_box_id']=(photon_df['latitude_index'])*(width)+photon_df['longitude_index']"
      ],
      "execution_count": null,
      "outputs": []
    },
    {
      "cell_type": "code",
      "metadata": {
        "id": "g8CXqz4d5WVm"
      },
      "source": [
        "photon_df['container_box_id2']=(photon_df['latitude_index2'])*(width*3)+photon_df['longitude_index2']"
      ],
      "execution_count": null,
      "outputs": []
    },
    {
      "cell_type": "code",
      "metadata": {
        "id": "RHDW3SJJU_v0"
      },
      "source": [
        ""
      ],
      "execution_count": null,
      "outputs": []
    },
    {
      "cell_type": "code",
      "metadata": {
        "colab": {
          "base_uri": "https://localhost:8080/",
          "height": 447
        },
        "id": "p8WlSexHTKug",
        "outputId": "fa6de7d4-9a8d-4006-f350-b515203f43c5"
      },
      "source": [
        "photon_df"
      ],
      "execution_count": null,
      "outputs": [
        {
          "output_type": "execute_result",
          "data": {
            "text/html": [
              "<div>\n",
              "<style scoped>\n",
              "    .dataframe tbody tr th:only-of-type {\n",
              "        vertical-align: middle;\n",
              "    }\n",
              "\n",
              "    .dataframe tbody tr th {\n",
              "        vertical-align: top;\n",
              "    }\n",
              "\n",
              "    .dataframe thead th {\n",
              "        text-align: right;\n",
              "    }\n",
              "</style>\n",
              "<table border=\"1\" class=\"dataframe\">\n",
              "  <thead>\n",
              "    <tr style=\"text-align: right;\">\n",
              "      <th></th>\n",
              "      <th>latitude</th>\n",
              "      <th>longitude</th>\n",
              "      <th>photon height</th>\n",
              "      <th>latitude_index</th>\n",
              "      <th>longitude_index</th>\n",
              "      <th>latitude_index2</th>\n",
              "      <th>longitude_index2</th>\n",
              "      <th>container_box_id</th>\n",
              "      <th>container_box_id2</th>\n",
              "    </tr>\n",
              "    <tr>\n",
              "      <th>index</th>\n",
              "      <th></th>\n",
              "      <th></th>\n",
              "      <th></th>\n",
              "      <th></th>\n",
              "      <th></th>\n",
              "      <th></th>\n",
              "      <th></th>\n",
              "      <th></th>\n",
              "      <th></th>\n",
              "    </tr>\n",
              "  </thead>\n",
              "  <tbody>\n",
              "    <tr>\n",
              "      <th>0</th>\n",
              "      <td>30.687405</td>\n",
              "      <td>79.191785</td>\n",
              "      <td>4369.1890</td>\n",
              "      <td>695</td>\n",
              "      <td>-54</td>\n",
              "      <td>2087</td>\n",
              "      <td>-162</td>\n",
              "      <td>831166</td>\n",
              "      <td>7487994</td>\n",
              "    </tr>\n",
              "    <tr>\n",
              "      <th>1</th>\n",
              "      <td>30.687405</td>\n",
              "      <td>79.191786</td>\n",
              "      <td>4375.3545</td>\n",
              "      <td>695</td>\n",
              "      <td>-54</td>\n",
              "      <td>2087</td>\n",
              "      <td>-162</td>\n",
              "      <td>831166</td>\n",
              "      <td>7487994</td>\n",
              "    </tr>\n",
              "    <tr>\n",
              "      <th>2</th>\n",
              "      <td>30.687405</td>\n",
              "      <td>79.191786</td>\n",
              "      <td>4372.4824</td>\n",
              "      <td>695</td>\n",
              "      <td>-54</td>\n",
              "      <td>2087</td>\n",
              "      <td>-162</td>\n",
              "      <td>831166</td>\n",
              "      <td>7487994</td>\n",
              "    </tr>\n",
              "    <tr>\n",
              "      <th>3</th>\n",
              "      <td>30.687405</td>\n",
              "      <td>79.191786</td>\n",
              "      <td>4371.6934</td>\n",
              "      <td>695</td>\n",
              "      <td>-54</td>\n",
              "      <td>2087</td>\n",
              "      <td>-162</td>\n",
              "      <td>831166</td>\n",
              "      <td>7487994</td>\n",
              "    </tr>\n",
              "    <tr>\n",
              "      <th>4</th>\n",
              "      <td>30.687406</td>\n",
              "      <td>79.191785</td>\n",
              "      <td>4368.3300</td>\n",
              "      <td>695</td>\n",
              "      <td>-54</td>\n",
              "      <td>2087</td>\n",
              "      <td>-162</td>\n",
              "      <td>831166</td>\n",
              "      <td>7487994</td>\n",
              "    </tr>\n",
              "    <tr>\n",
              "      <th>...</th>\n",
              "      <td>...</td>\n",
              "      <td>...</td>\n",
              "      <td>...</td>\n",
              "      <td>...</td>\n",
              "      <td>...</td>\n",
              "      <td>...</td>\n",
              "      <td>...</td>\n",
              "      <td>...</td>\n",
              "      <td>...</td>\n",
              "    </tr>\n",
              "    <tr>\n",
              "      <th>1336999</th>\n",
              "      <td>30.863483</td>\n",
              "      <td>79.204341</td>\n",
              "      <td>5573.2075</td>\n",
              "      <td>61</td>\n",
              "      <td>-8</td>\n",
              "      <td>185</td>\n",
              "      <td>-26</td>\n",
              "      <td>72948</td>\n",
              "      <td>663754</td>\n",
              "    </tr>\n",
              "    <tr>\n",
              "      <th>1337000</th>\n",
              "      <td>30.863483</td>\n",
              "      <td>79.204341</td>\n",
              "      <td>5572.8440</td>\n",
              "      <td>61</td>\n",
              "      <td>-8</td>\n",
              "      <td>185</td>\n",
              "      <td>-26</td>\n",
              "      <td>72948</td>\n",
              "      <td>663754</td>\n",
              "    </tr>\n",
              "    <tr>\n",
              "      <th>1337001</th>\n",
              "      <td>30.863483</td>\n",
              "      <td>79.204341</td>\n",
              "      <td>5573.1230</td>\n",
              "      <td>61</td>\n",
              "      <td>-8</td>\n",
              "      <td>185</td>\n",
              "      <td>-26</td>\n",
              "      <td>72948</td>\n",
              "      <td>663754</td>\n",
              "    </tr>\n",
              "    <tr>\n",
              "      <th>1337002</th>\n",
              "      <td>30.863483</td>\n",
              "      <td>79.204341</td>\n",
              "      <td>5572.4746</td>\n",
              "      <td>61</td>\n",
              "      <td>-8</td>\n",
              "      <td>185</td>\n",
              "      <td>-26</td>\n",
              "      <td>72948</td>\n",
              "      <td>663754</td>\n",
              "    </tr>\n",
              "    <tr>\n",
              "      <th>1337003</th>\n",
              "      <td>30.863483</td>\n",
              "      <td>79.204341</td>\n",
              "      <td>5573.7470</td>\n",
              "      <td>61</td>\n",
              "      <td>-8</td>\n",
              "      <td>185</td>\n",
              "      <td>-26</td>\n",
              "      <td>72948</td>\n",
              "      <td>663754</td>\n",
              "    </tr>\n",
              "  </tbody>\n",
              "</table>\n",
              "<p>5318650 rows × 9 columns</p>\n",
              "</div>"
            ],
            "text/plain": [
              "          latitude  longitude  ...  container_box_id  container_box_id2\n",
              "index                          ...                                     \n",
              "0        30.687405  79.191785  ...            831166            7487994\n",
              "1        30.687405  79.191786  ...            831166            7487994\n",
              "2        30.687405  79.191786  ...            831166            7487994\n",
              "3        30.687405  79.191786  ...            831166            7487994\n",
              "4        30.687406  79.191785  ...            831166            7487994\n",
              "...            ...        ...  ...               ...                ...\n",
              "1336999  30.863483  79.204341  ...             72948             663754\n",
              "1337000  30.863483  79.204341  ...             72948             663754\n",
              "1337001  30.863483  79.204341  ...             72948             663754\n",
              "1337002  30.863483  79.204341  ...             72948             663754\n",
              "1337003  30.863483  79.204341  ...             72948             663754\n",
              "\n",
              "[5318650 rows x 9 columns]"
            ]
          },
          "metadata": {
            "tags": []
          },
          "execution_count": 15
        }
      ]
    },
    {
      "cell_type": "code",
      "metadata": {
        "colab": {
          "base_uri": "https://localhost:8080/",
          "height": 447
        },
        "id": "6RZFpMdtfeBN",
        "outputId": "7d80ed52-d665-4ab9-be86-5ccdf4291468"
      },
      "source": [
        "photon_df=photon_df.groupby(['container_box_id2']).mean()\n",
        "photon_df"
      ],
      "execution_count": null,
      "outputs": [
        {
          "output_type": "execute_result",
          "data": {
            "text/html": [
              "<div>\n",
              "<style scoped>\n",
              "    .dataframe tbody tr th:only-of-type {\n",
              "        vertical-align: middle;\n",
              "    }\n",
              "\n",
              "    .dataframe tbody tr th {\n",
              "        vertical-align: top;\n",
              "    }\n",
              "\n",
              "    .dataframe thead th {\n",
              "        text-align: right;\n",
              "    }\n",
              "</style>\n",
              "<table border=\"1\" class=\"dataframe\">\n",
              "  <thead>\n",
              "    <tr style=\"text-align: right;\">\n",
              "      <th></th>\n",
              "      <th>latitude</th>\n",
              "      <th>longitude</th>\n",
              "      <th>photon height</th>\n",
              "      <th>latitude_index</th>\n",
              "      <th>longitude_index</th>\n",
              "      <th>latitude_index2</th>\n",
              "      <th>longitude_index2</th>\n",
              "      <th>container_box_id</th>\n",
              "    </tr>\n",
              "    <tr>\n",
              "      <th>container_box_id2</th>\n",
              "      <th></th>\n",
              "      <th></th>\n",
              "      <th></th>\n",
              "      <th></th>\n",
              "      <th></th>\n",
              "      <th></th>\n",
              "      <th></th>\n",
              "      <th></th>\n",
              "    </tr>\n",
              "  </thead>\n",
              "  <tbody>\n",
              "    <tr>\n",
              "      <th>663483</th>\n",
              "      <td>30.863485</td>\n",
              "      <td>79.179274</td>\n",
              "      <td>5934.822300</td>\n",
              "      <td>61.0</td>\n",
              "      <td>-99.0</td>\n",
              "      <td>185.0</td>\n",
              "      <td>-297.0</td>\n",
              "      <td>72857.0</td>\n",
              "    </tr>\n",
              "    <tr>\n",
              "      <th>663578</th>\n",
              "      <td>30.863491</td>\n",
              "      <td>79.188049</td>\n",
              "      <td>5329.479165</td>\n",
              "      <td>61.0</td>\n",
              "      <td>-67.0</td>\n",
              "      <td>185.0</td>\n",
              "      <td>-202.0</td>\n",
              "      <td>72889.0</td>\n",
              "    </tr>\n",
              "    <tr>\n",
              "      <th>663754</th>\n",
              "      <td>30.863479</td>\n",
              "      <td>79.204328</td>\n",
              "      <td>5572.857538</td>\n",
              "      <td>61.0</td>\n",
              "      <td>-8.0</td>\n",
              "      <td>185.0</td>\n",
              "      <td>-26.0</td>\n",
              "      <td>72948.0</td>\n",
              "    </tr>\n",
              "    <tr>\n",
              "      <th>663763</th>\n",
              "      <td>30.863501</td>\n",
              "      <td>79.205182</td>\n",
              "      <td>5570.853552</td>\n",
              "      <td>61.0</td>\n",
              "      <td>-5.0</td>\n",
              "      <td>185.0</td>\n",
              "      <td>-17.0</td>\n",
              "      <td>72951.0</td>\n",
              "    </tr>\n",
              "    <tr>\n",
              "      <th>664111</th>\n",
              "      <td>30.863502</td>\n",
              "      <td>79.237513</td>\n",
              "      <td>5650.127409</td>\n",
              "      <td>61.0</td>\n",
              "      <td>110.0</td>\n",
              "      <td>185.0</td>\n",
              "      <td>331.0</td>\n",
              "      <td>73066.0</td>\n",
              "    </tr>\n",
              "    <tr>\n",
              "      <th>...</th>\n",
              "      <td>...</td>\n",
              "      <td>...</td>\n",
              "      <td>...</td>\n",
              "      <td>...</td>\n",
              "      <td>...</td>\n",
              "      <td>...</td>\n",
              "      <td>...</td>\n",
              "      <td>...</td>\n",
              "    </tr>\n",
              "    <tr>\n",
              "      <th>7494395</th>\n",
              "      <td>30.687314</td>\n",
              "      <td>79.452305</td>\n",
              "      <td>3569.479627</td>\n",
              "      <td>696.0</td>\n",
              "      <td>883.0</td>\n",
              "      <td>2088.0</td>\n",
              "      <td>2651.0</td>\n",
              "      <td>833299.0</td>\n",
              "    </tr>\n",
              "    <tr>\n",
              "      <th>7494438</th>\n",
              "      <td>30.687329</td>\n",
              "      <td>79.456318</td>\n",
              "      <td>3488.653082</td>\n",
              "      <td>696.0</td>\n",
              "      <td>898.0</td>\n",
              "      <td>2088.0</td>\n",
              "      <td>2694.0</td>\n",
              "      <td>833314.0</td>\n",
              "    </tr>\n",
              "    <tr>\n",
              "      <th>7494740</th>\n",
              "      <td>30.687341</td>\n",
              "      <td>79.484221</td>\n",
              "      <td>2769.532633</td>\n",
              "      <td>696.0</td>\n",
              "      <td>998.0</td>\n",
              "      <td>2088.0</td>\n",
              "      <td>2996.0</td>\n",
              "      <td>833414.0</td>\n",
              "    </tr>\n",
              "    <tr>\n",
              "      <th>7494744</th>\n",
              "      <td>30.687324</td>\n",
              "      <td>79.484659</td>\n",
              "      <td>2762.454950</td>\n",
              "      <td>696.0</td>\n",
              "      <td>1000.0</td>\n",
              "      <td>2088.0</td>\n",
              "      <td>3000.0</td>\n",
              "      <td>833416.0</td>\n",
              "    </tr>\n",
              "    <tr>\n",
              "      <th>7497615</th>\n",
              "      <td>30.687256</td>\n",
              "      <td>79.418249</td>\n",
              "      <td>3954.944967</td>\n",
              "      <td>696.0</td>\n",
              "      <td>761.0</td>\n",
              "      <td>2089.0</td>\n",
              "      <td>2283.0</td>\n",
              "      <td>833177.0</td>\n",
              "    </tr>\n",
              "  </tbody>\n",
              "</table>\n",
              "<p>81708 rows × 8 columns</p>\n",
              "</div>"
            ],
            "text/plain": [
              "                    latitude  longitude  ...  longitude_index2  container_box_id\n",
              "container_box_id2                        ...                                    \n",
              "663483             30.863485  79.179274  ...            -297.0           72857.0\n",
              "663578             30.863491  79.188049  ...            -202.0           72889.0\n",
              "663754             30.863479  79.204328  ...             -26.0           72948.0\n",
              "663763             30.863501  79.205182  ...             -17.0           72951.0\n",
              "664111             30.863502  79.237513  ...             331.0           73066.0\n",
              "...                      ...        ...  ...               ...               ...\n",
              "7494395            30.687314  79.452305  ...            2651.0          833299.0\n",
              "7494438            30.687329  79.456318  ...            2694.0          833314.0\n",
              "7494740            30.687341  79.484221  ...            2996.0          833414.0\n",
              "7494744            30.687324  79.484659  ...            3000.0          833416.0\n",
              "7497615            30.687256  79.418249  ...            2283.0          833177.0\n",
              "\n",
              "[81708 rows x 8 columns]"
            ]
          },
          "metadata": {
            "tags": []
          },
          "execution_count": 16
        }
      ]
    },
    {
      "cell_type": "code",
      "metadata": {
        "id": "o22As3zrffxs"
      },
      "source": [
        "photon_df=photon_df.drop(['latitude_index'],axis=1)\n",
        "photon_df=photon_df.drop(['longitude_index'],axis=1)\n",
        "photon_df=photon_df.drop(['latitude_index2'],axis=1)\n",
        "photon_df=photon_df.drop(['longitude_index2'],axis=1)\n",
        "photon_df.reset_index(drop=True, inplace=True)"
      ],
      "execution_count": null,
      "outputs": []
    },
    {
      "cell_type": "code",
      "metadata": {
        "id": "sbtGjFGQ_3Hl"
      },
      "source": [
        "photon_df[\"container_box_id\"] = photon_df[\"container_box_id\"].astype(int)"
      ],
      "execution_count": null,
      "outputs": []
    },
    {
      "cell_type": "code",
      "metadata": {
        "colab": {
          "base_uri": "https://localhost:8080/",
          "height": 417
        },
        "id": "Jc6ICIcf-pd5",
        "outputId": "ea66fcf1-d059-48a4-fb12-6030208d1955"
      },
      "source": [
        "photon_df"
      ],
      "execution_count": null,
      "outputs": [
        {
          "output_type": "execute_result",
          "data": {
            "text/html": [
              "<div>\n",
              "<style scoped>\n",
              "    .dataframe tbody tr th:only-of-type {\n",
              "        vertical-align: middle;\n",
              "    }\n",
              "\n",
              "    .dataframe tbody tr th {\n",
              "        vertical-align: top;\n",
              "    }\n",
              "\n",
              "    .dataframe thead th {\n",
              "        text-align: right;\n",
              "    }\n",
              "</style>\n",
              "<table border=\"1\" class=\"dataframe\">\n",
              "  <thead>\n",
              "    <tr style=\"text-align: right;\">\n",
              "      <th></th>\n",
              "      <th>latitude</th>\n",
              "      <th>longitude</th>\n",
              "      <th>photon height</th>\n",
              "      <th>container_box_id</th>\n",
              "    </tr>\n",
              "  </thead>\n",
              "  <tbody>\n",
              "    <tr>\n",
              "      <th>0</th>\n",
              "      <td>30.863485</td>\n",
              "      <td>79.179274</td>\n",
              "      <td>5934.822300</td>\n",
              "      <td>72857</td>\n",
              "    </tr>\n",
              "    <tr>\n",
              "      <th>1</th>\n",
              "      <td>30.863491</td>\n",
              "      <td>79.188049</td>\n",
              "      <td>5329.479165</td>\n",
              "      <td>72889</td>\n",
              "    </tr>\n",
              "    <tr>\n",
              "      <th>2</th>\n",
              "      <td>30.863479</td>\n",
              "      <td>79.204328</td>\n",
              "      <td>5572.857538</td>\n",
              "      <td>72948</td>\n",
              "    </tr>\n",
              "    <tr>\n",
              "      <th>3</th>\n",
              "      <td>30.863501</td>\n",
              "      <td>79.205182</td>\n",
              "      <td>5570.853552</td>\n",
              "      <td>72951</td>\n",
              "    </tr>\n",
              "    <tr>\n",
              "      <th>4</th>\n",
              "      <td>30.863502</td>\n",
              "      <td>79.237513</td>\n",
              "      <td>5650.127409</td>\n",
              "      <td>73066</td>\n",
              "    </tr>\n",
              "    <tr>\n",
              "      <th>...</th>\n",
              "      <td>...</td>\n",
              "      <td>...</td>\n",
              "      <td>...</td>\n",
              "      <td>...</td>\n",
              "    </tr>\n",
              "    <tr>\n",
              "      <th>81703</th>\n",
              "      <td>30.687314</td>\n",
              "      <td>79.452305</td>\n",
              "      <td>3569.479627</td>\n",
              "      <td>833299</td>\n",
              "    </tr>\n",
              "    <tr>\n",
              "      <th>81704</th>\n",
              "      <td>30.687329</td>\n",
              "      <td>79.456318</td>\n",
              "      <td>3488.653082</td>\n",
              "      <td>833314</td>\n",
              "    </tr>\n",
              "    <tr>\n",
              "      <th>81705</th>\n",
              "      <td>30.687341</td>\n",
              "      <td>79.484221</td>\n",
              "      <td>2769.532633</td>\n",
              "      <td>833414</td>\n",
              "    </tr>\n",
              "    <tr>\n",
              "      <th>81706</th>\n",
              "      <td>30.687324</td>\n",
              "      <td>79.484659</td>\n",
              "      <td>2762.454950</td>\n",
              "      <td>833416</td>\n",
              "    </tr>\n",
              "    <tr>\n",
              "      <th>81707</th>\n",
              "      <td>30.687256</td>\n",
              "      <td>79.418249</td>\n",
              "      <td>3954.944967</td>\n",
              "      <td>833177</td>\n",
              "    </tr>\n",
              "  </tbody>\n",
              "</table>\n",
              "<p>81708 rows × 4 columns</p>\n",
              "</div>"
            ],
            "text/plain": [
              "        latitude  longitude  photon height  container_box_id\n",
              "0      30.863485  79.179274    5934.822300             72857\n",
              "1      30.863491  79.188049    5329.479165             72889\n",
              "2      30.863479  79.204328    5572.857538             72948\n",
              "3      30.863501  79.205182    5570.853552             72951\n",
              "4      30.863502  79.237513    5650.127409             73066\n",
              "...          ...        ...            ...               ...\n",
              "81703  30.687314  79.452305    3569.479627            833299\n",
              "81704  30.687329  79.456318    3488.653082            833314\n",
              "81705  30.687341  79.484221    2769.532633            833414\n",
              "81706  30.687324  79.484659    2762.454950            833416\n",
              "81707  30.687256  79.418249    3954.944967            833177\n",
              "\n",
              "[81708 rows x 4 columns]"
            ]
          },
          "metadata": {
            "tags": []
          },
          "execution_count": 19
        }
      ]
    },
    {
      "cell_type": "code",
      "metadata": {
        "id": "BxbFHHgMfoba"
      },
      "source": [
        "merged_df = photon_df.merge(dem_df, left_on='container_box_id', right_index = True)"
      ],
      "execution_count": null,
      "outputs": []
    },
    {
      "cell_type": "code",
      "metadata": {
        "colab": {
          "base_uri": "https://localhost:8080/",
          "height": 417
        },
        "id": "Hb6s4rrwgJcp",
        "outputId": "3337cb44-735f-4692-a5e0-2cd82983438f"
      },
      "source": [
        "merged_df"
      ],
      "execution_count": null,
      "outputs": [
        {
          "output_type": "execute_result",
          "data": {
            "text/html": [
              "<div>\n",
              "<style scoped>\n",
              "    .dataframe tbody tr th:only-of-type {\n",
              "        vertical-align: middle;\n",
              "    }\n",
              "\n",
              "    .dataframe tbody tr th {\n",
              "        vertical-align: top;\n",
              "    }\n",
              "\n",
              "    .dataframe thead th {\n",
              "        text-align: right;\n",
              "    }\n",
              "</style>\n",
              "<table border=\"1\" class=\"dataframe\">\n",
              "  <thead>\n",
              "    <tr style=\"text-align: right;\">\n",
              "      <th></th>\n",
              "      <th>latitude_x</th>\n",
              "      <th>longitude_x</th>\n",
              "      <th>photon height</th>\n",
              "      <th>container_box_id</th>\n",
              "      <th>latitude_y</th>\n",
              "      <th>longitude_y</th>\n",
              "      <th>dem height</th>\n",
              "    </tr>\n",
              "  </thead>\n",
              "  <tbody>\n",
              "    <tr>\n",
              "      <th>0</th>\n",
              "      <td>30.863485</td>\n",
              "      <td>79.179274</td>\n",
              "      <td>5934.822300</td>\n",
              "      <td>72857</td>\n",
              "      <td>30.863773</td>\n",
              "      <td>79.511528</td>\n",
              "      <td>4886.112793</td>\n",
              "    </tr>\n",
              "    <tr>\n",
              "      <th>1</th>\n",
              "      <td>30.863491</td>\n",
              "      <td>79.188049</td>\n",
              "      <td>5329.479165</td>\n",
              "      <td>72889</td>\n",
              "      <td>30.863766</td>\n",
              "      <td>79.520417</td>\n",
              "      <td>5079.104980</td>\n",
              "    </tr>\n",
              "    <tr>\n",
              "      <th>2</th>\n",
              "      <td>30.863479</td>\n",
              "      <td>79.204328</td>\n",
              "      <td>5572.857538</td>\n",
              "      <td>72948</td>\n",
              "      <td>30.863752</td>\n",
              "      <td>79.536806</td>\n",
              "      <td>5741.090332</td>\n",
              "    </tr>\n",
              "    <tr>\n",
              "      <th>3</th>\n",
              "      <td>30.863501</td>\n",
              "      <td>79.205182</td>\n",
              "      <td>5570.853552</td>\n",
              "      <td>72951</td>\n",
              "      <td>30.863751</td>\n",
              "      <td>79.537639</td>\n",
              "      <td>5756.089844</td>\n",
              "    </tr>\n",
              "    <tr>\n",
              "      <th>4</th>\n",
              "      <td>30.863502</td>\n",
              "      <td>79.237513</td>\n",
              "      <td>5650.127409</td>\n",
              "      <td>73066</td>\n",
              "      <td>30.863724</td>\n",
              "      <td>79.237361</td>\n",
              "      <td>5649.315918</td>\n",
              "    </tr>\n",
              "    <tr>\n",
              "      <th>...</th>\n",
              "      <td>...</td>\n",
              "      <td>...</td>\n",
              "      <td>...</td>\n",
              "      <td>...</td>\n",
              "      <td>...</td>\n",
              "      <td>...</td>\n",
              "      <td>...</td>\n",
              "    </tr>\n",
              "    <tr>\n",
              "      <th>81702</th>\n",
              "      <td>30.687326</td>\n",
              "      <td>79.452247</td>\n",
              "      <td>3571.340833</td>\n",
              "      <td>833299</td>\n",
              "      <td>30.687156</td>\n",
              "      <td>79.452083</td>\n",
              "      <td>3566.280518</td>\n",
              "    </tr>\n",
              "    <tr>\n",
              "      <th>81703</th>\n",
              "      <td>30.687314</td>\n",
              "      <td>79.452305</td>\n",
              "      <td>3569.479627</td>\n",
              "      <td>833299</td>\n",
              "      <td>30.687156</td>\n",
              "      <td>79.452083</td>\n",
              "      <td>3566.280518</td>\n",
              "    </tr>\n",
              "    <tr>\n",
              "      <th>81704</th>\n",
              "      <td>30.687329</td>\n",
              "      <td>79.456318</td>\n",
              "      <td>3488.653082</td>\n",
              "      <td>833314</td>\n",
              "      <td>30.687153</td>\n",
              "      <td>79.456250</td>\n",
              "      <td>3493.317627</td>\n",
              "    </tr>\n",
              "    <tr>\n",
              "      <th>81705</th>\n",
              "      <td>30.687341</td>\n",
              "      <td>79.484221</td>\n",
              "      <td>2769.532633</td>\n",
              "      <td>833414</td>\n",
              "      <td>30.687129</td>\n",
              "      <td>79.484028</td>\n",
              "      <td>2769.565918</td>\n",
              "    </tr>\n",
              "    <tr>\n",
              "      <th>81706</th>\n",
              "      <td>30.687324</td>\n",
              "      <td>79.484659</td>\n",
              "      <td>2762.454950</td>\n",
              "      <td>833416</td>\n",
              "      <td>30.687129</td>\n",
              "      <td>79.484583</td>\n",
              "      <td>2746.571045</td>\n",
              "    </tr>\n",
              "  </tbody>\n",
              "</table>\n",
              "<p>81708 rows × 7 columns</p>\n",
              "</div>"
            ],
            "text/plain": [
              "       latitude_x  longitude_x  ...  longitude_y   dem height\n",
              "0       30.863485    79.179274  ...    79.511528  4886.112793\n",
              "1       30.863491    79.188049  ...    79.520417  5079.104980\n",
              "2       30.863479    79.204328  ...    79.536806  5741.090332\n",
              "3       30.863501    79.205182  ...    79.537639  5756.089844\n",
              "4       30.863502    79.237513  ...    79.237361  5649.315918\n",
              "...           ...          ...  ...          ...          ...\n",
              "81702   30.687326    79.452247  ...    79.452083  3566.280518\n",
              "81703   30.687314    79.452305  ...    79.452083  3566.280518\n",
              "81704   30.687329    79.456318  ...    79.456250  3493.317627\n",
              "81705   30.687341    79.484221  ...    79.484028  2769.565918\n",
              "81706   30.687324    79.484659  ...    79.484583  2746.571045\n",
              "\n",
              "[81708 rows x 7 columns]"
            ]
          },
          "metadata": {
            "tags": []
          },
          "execution_count": 21
        }
      ]
    },
    {
      "cell_type": "code",
      "metadata": {
        "id": "HinPKqthZFB1"
      },
      "source": [
        ""
      ],
      "execution_count": null,
      "outputs": []
    },
    {
      "cell_type": "code",
      "metadata": {
        "id": "r-UHkup4gKq9"
      },
      "source": [
        "merged_df.drop(columns = ['container_box_id'], inplace = True)\n",
        "X = merged_df.drop('photon height',axis=1)\n",
        "y = merged_df['photon height']"
      ],
      "execution_count": null,
      "outputs": []
    },
    {
      "cell_type": "code",
      "metadata": {
        "id": "k9EKG7J0gzec"
      },
      "source": [
        "from sklearn.model_selection import train_test_split"
      ],
      "execution_count": null,
      "outputs": []
    },
    {
      "cell_type": "code",
      "metadata": {
        "id": "dnTxIUYvg25k"
      },
      "source": [
        "X_train, X_test, y_train, y_test = train_test_split(X,y,test_size=0.3,random_state=101)"
      ],
      "execution_count": null,
      "outputs": []
    },
    {
      "cell_type": "code",
      "metadata": {
        "id": "bQxuKenyx6ya"
      },
      "source": [
        "import numpy as np\n",
        "y_train = np.array(y_train)\n",
        "y_test = np.array(y_test)"
      ],
      "execution_count": null,
      "outputs": []
    },
    {
      "cell_type": "code",
      "metadata": {
        "id": "8qRei0cOyB4h"
      },
      "source": [
        "y_train = y_train.reshape(len(y_train), 1)\n",
        "y_test = y_test.reshape(len(y_test), 1)"
      ],
      "execution_count": null,
      "outputs": []
    },
    {
      "cell_type": "code",
      "metadata": {
        "id": "PCmsNpPEg_Rj"
      },
      "source": [
        "from sklearn.preprocessing import MinMaxScaler\n",
        "scaler_x = MinMaxScaler()\n",
        "scaler_y = MinMaxScaler()\n",
        "X_train= scaler_x.fit_transform(X_train)\n",
        "X_test = scaler_x.transform(X_test)\n",
        "y_train = scaler_y.fit_transform(y_train)\n",
        "y_test = scaler_y.transform(y_test)"
      ],
      "execution_count": null,
      "outputs": []
    },
    {
      "cell_type": "code",
      "metadata": {
        "colab": {
          "base_uri": "https://localhost:8080/"
        },
        "id": "9Ose1tmzhEM3",
        "outputId": "0f82a070-47ac-4edb-91b5-d0eb29934aee"
      },
      "source": [
        "X_train.shape"
      ],
      "execution_count": null,
      "outputs": [
        {
          "output_type": "execute_result",
          "data": {
            "text/plain": [
              "(57195, 5)"
            ]
          },
          "metadata": {
            "tags": []
          },
          "execution_count": 28
        }
      ]
    },
    {
      "cell_type": "code",
      "metadata": {
        "colab": {
          "base_uri": "https://localhost:8080/"
        },
        "id": "2Ak5TxqYhGFx",
        "outputId": "e69a2d9f-0da4-4c08-8ff5-2b8b57396c4b"
      },
      "source": [
        "X_test.shape"
      ],
      "execution_count": null,
      "outputs": [
        {
          "output_type": "execute_result",
          "data": {
            "text/plain": [
              "(24513, 5)"
            ]
          },
          "metadata": {
            "tags": []
          },
          "execution_count": 29
        }
      ]
    },
    {
      "cell_type": "code",
      "metadata": {
        "colab": {
          "base_uri": "https://localhost:8080/"
        },
        "id": "cOF2uLtJa-Z1",
        "outputId": "4d205066-d242-454a-87f0-4ab56d1595a6"
      },
      "source": [
        "type(X_test)"
      ],
      "execution_count": null,
      "outputs": [
        {
          "output_type": "execute_result",
          "data": {
            "text/plain": [
              "numpy.ndarray"
            ]
          },
          "metadata": {
            "tags": []
          },
          "execution_count": 30
        }
      ]
    },
    {
      "cell_type": "code",
      "metadata": {
        "id": "3anljlwWcZP1"
      },
      "source": [
        "from sklearn.linear_model import RidgeCV\n",
        "from sklearn.model_selection import RepeatedKFold\n",
        "from sklearn.model_selection import GridSearchCV\n",
        "from sklearn.linear_model import Ridge\n",
        "from sklearn.model_selection import cross_val_score\n"
      ],
      "execution_count": null,
      "outputs": []
    },
    {
      "cell_type": "code",
      "metadata": {
        "colab": {
          "base_uri": "https://localhost:8080/"
        },
        "id": "pUY4S1jKhze8",
        "outputId": "2784b5ef-a681-46ed-b349-8dd39efade51"
      },
      "source": [
        "model = Ridge()\n",
        "# define model evaluation method\n",
        "cv = RepeatedKFold(n_splits=10, n_repeats=3, random_state=1)\n",
        "# define grid\n",
        "grid = dict()\n",
        "grid['alpha'] = np.arange(0, 2, 0.02)\n",
        "# define search\n",
        "search = GridSearchCV(model, grid, scoring='neg_mean_absolute_error', cv=cv, n_jobs=-1)\n",
        "# perform the search\n",
        "results = search.fit(X, y)\n",
        "# summarize\n",
        "print('Config: %s' % results.best_params_)"
      ],
      "execution_count": null,
      "outputs": [
        {
          "output_type": "stream",
          "text": [
            "Config: {'alpha': 0.0}\n"
          ],
          "name": "stdout"
        }
      ]
    },
    {
      "cell_type": "code",
      "metadata": {
        "colab": {
          "base_uri": "https://localhost:8080/"
        },
        "id": "gb8YP2mVInlb",
        "outputId": "70c997db-e12d-45d8-c7f6-84730918ba54"
      },
      "source": [
        "model=Ridge(alpha=results.best_params_['alpha'])\n",
        "model.fit(X_train,y_train)\n"
      ],
      "execution_count": null,
      "outputs": [
        {
          "output_type": "execute_result",
          "data": {
            "text/plain": [
              "Ridge(alpha=0.0, copy_X=True, fit_intercept=True, max_iter=None,\n",
              "      normalize=False, random_state=None, solver='auto', tol=0.001)"
            ]
          },
          "metadata": {
            "tags": []
          },
          "execution_count": 33
        }
      ]
    },
    {
      "cell_type": "code",
      "metadata": {
        "id": "NubAwtwXQNHv",
        "colab": {
          "base_uri": "https://localhost:8080/",
          "height": 417
        },
        "outputId": "4a38f892-13af-4134-c7e0-14cd4e75eb77"
      },
      "source": [
        "finalarray=np.zeros([height*3*width*3], dtype = int)\n",
        "df= pd.DataFrame(columns=['zero'],data=finalarray)\n",
        "df"
      ],
      "execution_count": null,
      "outputs": [
        {
          "output_type": "execute_result",
          "data": {
            "text/html": [
              "<div>\n",
              "<style scoped>\n",
              "    .dataframe tbody tr th:only-of-type {\n",
              "        vertical-align: middle;\n",
              "    }\n",
              "\n",
              "    .dataframe tbody tr th {\n",
              "        vertical-align: top;\n",
              "    }\n",
              "\n",
              "    .dataframe thead th {\n",
              "        text-align: right;\n",
              "    }\n",
              "</style>\n",
              "<table border=\"1\" class=\"dataframe\">\n",
              "  <thead>\n",
              "    <tr style=\"text-align: right;\">\n",
              "      <th></th>\n",
              "      <th>zero</th>\n",
              "    </tr>\n",
              "  </thead>\n",
              "  <tbody>\n",
              "    <tr>\n",
              "      <th>0</th>\n",
              "      <td>0</td>\n",
              "    </tr>\n",
              "    <tr>\n",
              "      <th>1</th>\n",
              "      <td>0</td>\n",
              "    </tr>\n",
              "    <tr>\n",
              "      <th>2</th>\n",
              "      <td>0</td>\n",
              "    </tr>\n",
              "    <tr>\n",
              "      <th>3</th>\n",
              "      <td>0</td>\n",
              "    </tr>\n",
              "    <tr>\n",
              "      <th>4</th>\n",
              "      <td>0</td>\n",
              "    </tr>\n",
              "    <tr>\n",
              "      <th>...</th>\n",
              "      <td>...</td>\n",
              "    </tr>\n",
              "    <tr>\n",
              "      <th>8299039</th>\n",
              "      <td>0</td>\n",
              "    </tr>\n",
              "    <tr>\n",
              "      <th>8299040</th>\n",
              "      <td>0</td>\n",
              "    </tr>\n",
              "    <tr>\n",
              "      <th>8299041</th>\n",
              "      <td>0</td>\n",
              "    </tr>\n",
              "    <tr>\n",
              "      <th>8299042</th>\n",
              "      <td>0</td>\n",
              "    </tr>\n",
              "    <tr>\n",
              "      <th>8299043</th>\n",
              "      <td>0</td>\n",
              "    </tr>\n",
              "  </tbody>\n",
              "</table>\n",
              "<p>8299044 rows × 1 columns</p>\n",
              "</div>"
            ],
            "text/plain": [
              "         zero\n",
              "0           0\n",
              "1           0\n",
              "2           0\n",
              "3           0\n",
              "4           0\n",
              "...       ...\n",
              "8299039     0\n",
              "8299040     0\n",
              "8299041     0\n",
              "8299042     0\n",
              "8299043     0\n",
              "\n",
              "[8299044 rows x 1 columns]"
            ]
          },
          "metadata": {
            "tags": []
          },
          "execution_count": 34
        }
      ]
    },
    {
      "cell_type": "code",
      "metadata": {
        "id": "T_ALo-P1YV0m"
      },
      "source": [
        "def latitude_final(n):\n",
        "    return origin_y + (n/(width*3) * pixel_res_y/3.0)\n",
        "def longitude_final(n):\n",
        "    return origin_x + (n%(width*3) * pixel_res_x/3.0)"
      ],
      "execution_count": null,
      "outputs": []
    },
    {
      "cell_type": "code",
      "metadata": {
        "id": "QZF0C2vobkmo"
      },
      "source": [
        "df['index1']=df.index\n",
        "df['latitude']=df.index1.apply(latitude_final)\n",
        "df['longitude']=df.index1.apply(longitude_final)"
      ],
      "execution_count": null,
      "outputs": []
    },
    {
      "cell_type": "code",
      "metadata": {
        "id": "ZjUY1lGzeDGF"
      },
      "source": [
        "df=df.drop(columns=['index1','zero'],axis=1)\n",
        "df['latitude_index']= df.latitude.apply(get_latitude_index)\n",
        "df['longitude_index']= df.longitude.apply(get_longitude_index)\n",
        "df['container_box_id']=(df['latitude_index'])*(width)+df['longitude_index']\n",
        "df=df.drop(['latitude_index'],axis=1)\n",
        "df=df.drop(['longitude_index'],axis=1)\n",
        "df[\"container_box_id\"] = df[\"container_box_id\"].astype(int)"
      ],
      "execution_count": null,
      "outputs": []
    },
    {
      "cell_type": "code",
      "metadata": {
        "id": "HvuUvcsoiUP0"
      },
      "source": [
        "final_merged_df = df.merge(dem_df, left_on='container_box_id', right_index = True)\n",
        "final_merged_df.drop(columns = ['container_box_id'], inplace = True)"
      ],
      "execution_count": null,
      "outputs": []
    },
    {
      "cell_type": "code",
      "metadata": {
        "colab": {
          "base_uri": "https://localhost:8080/",
          "height": 417
        },
        "id": "ZE97A3smhdYJ",
        "outputId": "56b7614f-9984-4a20-d833-d5dcd3a757c4"
      },
      "source": [
        "final_merged_df"
      ],
      "execution_count": null,
      "outputs": [
        {
          "output_type": "execute_result",
          "data": {
            "text/html": [
              "<div>\n",
              "<style scoped>\n",
              "    .dataframe tbody tr th:only-of-type {\n",
              "        vertical-align: middle;\n",
              "    }\n",
              "\n",
              "    .dataframe tbody tr th {\n",
              "        vertical-align: top;\n",
              "    }\n",
              "\n",
              "    .dataframe thead th {\n",
              "        text-align: right;\n",
              "    }\n",
              "</style>\n",
              "<table border=\"1\" class=\"dataframe\">\n",
              "  <thead>\n",
              "    <tr style=\"text-align: right;\">\n",
              "      <th></th>\n",
              "      <th>latitude_x</th>\n",
              "      <th>longitude_x</th>\n",
              "      <th>latitude_y</th>\n",
              "      <th>longitude_y</th>\n",
              "      <th>dem height</th>\n",
              "    </tr>\n",
              "  </thead>\n",
              "  <tbody>\n",
              "    <tr>\n",
              "      <th>0</th>\n",
              "      <td>30.880694</td>\n",
              "      <td>79.206806</td>\n",
              "      <td>30.880694</td>\n",
              "      <td>79.206806</td>\n",
              "      <td>5513.889648</td>\n",
              "    </tr>\n",
              "    <tr>\n",
              "      <th>1</th>\n",
              "      <td>30.880694</td>\n",
              "      <td>79.206898</td>\n",
              "      <td>30.880694</td>\n",
              "      <td>79.206806</td>\n",
              "      <td>5513.889648</td>\n",
              "    </tr>\n",
              "    <tr>\n",
              "      <th>2</th>\n",
              "      <td>30.880694</td>\n",
              "      <td>79.206991</td>\n",
              "      <td>30.880694</td>\n",
              "      <td>79.206806</td>\n",
              "      <td>5513.889648</td>\n",
              "    </tr>\n",
              "    <tr>\n",
              "      <th>3588</th>\n",
              "      <td>30.880602</td>\n",
              "      <td>79.206806</td>\n",
              "      <td>30.880694</td>\n",
              "      <td>79.206806</td>\n",
              "      <td>5513.889648</td>\n",
              "    </tr>\n",
              "    <tr>\n",
              "      <th>3589</th>\n",
              "      <td>30.880602</td>\n",
              "      <td>79.206898</td>\n",
              "      <td>30.880694</td>\n",
              "      <td>79.206806</td>\n",
              "      <td>5513.889648</td>\n",
              "    </tr>\n",
              "    <tr>\n",
              "      <th>...</th>\n",
              "      <td>...</td>\n",
              "      <td>...</td>\n",
              "      <td>...</td>\n",
              "      <td>...</td>\n",
              "      <td>...</td>\n",
              "    </tr>\n",
              "    <tr>\n",
              "      <th>8291867</th>\n",
              "      <td>30.666713</td>\n",
              "      <td>79.538935</td>\n",
              "      <td>30.666528</td>\n",
              "      <td>79.538750</td>\n",
              "      <td>3374.635742</td>\n",
              "    </tr>\n",
              "    <tr>\n",
              "      <th>8295454</th>\n",
              "      <td>30.666620</td>\n",
              "      <td>79.538843</td>\n",
              "      <td>30.666528</td>\n",
              "      <td>79.538750</td>\n",
              "      <td>3374.635742</td>\n",
              "    </tr>\n",
              "    <tr>\n",
              "      <th>8295455</th>\n",
              "      <td>30.666620</td>\n",
              "      <td>79.538935</td>\n",
              "      <td>30.666528</td>\n",
              "      <td>79.538750</td>\n",
              "      <td>3374.635742</td>\n",
              "    </tr>\n",
              "    <tr>\n",
              "      <th>8299042</th>\n",
              "      <td>30.666528</td>\n",
              "      <td>79.538843</td>\n",
              "      <td>30.666528</td>\n",
              "      <td>79.538750</td>\n",
              "      <td>3374.635742</td>\n",
              "    </tr>\n",
              "    <tr>\n",
              "      <th>8299043</th>\n",
              "      <td>30.666528</td>\n",
              "      <td>79.538935</td>\n",
              "      <td>30.666528</td>\n",
              "      <td>79.538750</td>\n",
              "      <td>3374.635742</td>\n",
              "    </tr>\n",
              "  </tbody>\n",
              "</table>\n",
              "<p>8299044 rows × 5 columns</p>\n",
              "</div>"
            ],
            "text/plain": [
              "         latitude_x  longitude_x  latitude_y  longitude_y   dem height\n",
              "0         30.880694    79.206806   30.880694    79.206806  5513.889648\n",
              "1         30.880694    79.206898   30.880694    79.206806  5513.889648\n",
              "2         30.880694    79.206991   30.880694    79.206806  5513.889648\n",
              "3588      30.880602    79.206806   30.880694    79.206806  5513.889648\n",
              "3589      30.880602    79.206898   30.880694    79.206806  5513.889648\n",
              "...             ...          ...         ...          ...          ...\n",
              "8291867   30.666713    79.538935   30.666528    79.538750  3374.635742\n",
              "8295454   30.666620    79.538843   30.666528    79.538750  3374.635742\n",
              "8295455   30.666620    79.538935   30.666528    79.538750  3374.635742\n",
              "8299042   30.666528    79.538843   30.666528    79.538750  3374.635742\n",
              "8299043   30.666528    79.538935   30.666528    79.538750  3374.635742\n",
              "\n",
              "[8299044 rows x 5 columns]"
            ]
          },
          "metadata": {
            "tags": []
          },
          "execution_count": 39
        }
      ]
    },
    {
      "cell_type": "code",
      "metadata": {
        "colab": {
          "base_uri": "https://localhost:8080/",
          "height": 417
        },
        "id": "GxYPrzryhJDl",
        "outputId": "e2edf967-821a-4533-b98b-8387b3f5f31e"
      },
      "source": [
        "final_merged_df.sort_index()"
      ],
      "execution_count": null,
      "outputs": [
        {
          "output_type": "execute_result",
          "data": {
            "text/html": [
              "<div>\n",
              "<style scoped>\n",
              "    .dataframe tbody tr th:only-of-type {\n",
              "        vertical-align: middle;\n",
              "    }\n",
              "\n",
              "    .dataframe tbody tr th {\n",
              "        vertical-align: top;\n",
              "    }\n",
              "\n",
              "    .dataframe thead th {\n",
              "        text-align: right;\n",
              "    }\n",
              "</style>\n",
              "<table border=\"1\" class=\"dataframe\">\n",
              "  <thead>\n",
              "    <tr style=\"text-align: right;\">\n",
              "      <th></th>\n",
              "      <th>latitude_x</th>\n",
              "      <th>longitude_x</th>\n",
              "      <th>latitude_y</th>\n",
              "      <th>longitude_y</th>\n",
              "      <th>dem height</th>\n",
              "    </tr>\n",
              "  </thead>\n",
              "  <tbody>\n",
              "    <tr>\n",
              "      <th>0</th>\n",
              "      <td>30.880694</td>\n",
              "      <td>79.206806</td>\n",
              "      <td>30.880694</td>\n",
              "      <td>79.206806</td>\n",
              "      <td>5513.889648</td>\n",
              "    </tr>\n",
              "    <tr>\n",
              "      <th>1</th>\n",
              "      <td>30.880694</td>\n",
              "      <td>79.206898</td>\n",
              "      <td>30.880694</td>\n",
              "      <td>79.206806</td>\n",
              "      <td>5513.889648</td>\n",
              "    </tr>\n",
              "    <tr>\n",
              "      <th>2</th>\n",
              "      <td>30.880694</td>\n",
              "      <td>79.206991</td>\n",
              "      <td>30.880694</td>\n",
              "      <td>79.206806</td>\n",
              "      <td>5513.889648</td>\n",
              "    </tr>\n",
              "    <tr>\n",
              "      <th>3</th>\n",
              "      <td>30.880694</td>\n",
              "      <td>79.207083</td>\n",
              "      <td>30.880694</td>\n",
              "      <td>79.207083</td>\n",
              "      <td>5518.893066</td>\n",
              "    </tr>\n",
              "    <tr>\n",
              "      <th>4</th>\n",
              "      <td>30.880694</td>\n",
              "      <td>79.207176</td>\n",
              "      <td>30.880694</td>\n",
              "      <td>79.207083</td>\n",
              "      <td>5518.893066</td>\n",
              "    </tr>\n",
              "    <tr>\n",
              "      <th>...</th>\n",
              "      <td>...</td>\n",
              "      <td>...</td>\n",
              "      <td>...</td>\n",
              "      <td>...</td>\n",
              "      <td>...</td>\n",
              "    </tr>\n",
              "    <tr>\n",
              "      <th>8299039</th>\n",
              "      <td>30.666528</td>\n",
              "      <td>79.538565</td>\n",
              "      <td>30.666528</td>\n",
              "      <td>79.538472</td>\n",
              "      <td>3390.635986</td>\n",
              "    </tr>\n",
              "    <tr>\n",
              "      <th>8299040</th>\n",
              "      <td>30.666528</td>\n",
              "      <td>79.538657</td>\n",
              "      <td>30.666528</td>\n",
              "      <td>79.538472</td>\n",
              "      <td>3390.635986</td>\n",
              "    </tr>\n",
              "    <tr>\n",
              "      <th>8299041</th>\n",
              "      <td>30.666528</td>\n",
              "      <td>79.538750</td>\n",
              "      <td>30.666528</td>\n",
              "      <td>79.538472</td>\n",
              "      <td>3390.635986</td>\n",
              "    </tr>\n",
              "    <tr>\n",
              "      <th>8299042</th>\n",
              "      <td>30.666528</td>\n",
              "      <td>79.538843</td>\n",
              "      <td>30.666528</td>\n",
              "      <td>79.538750</td>\n",
              "      <td>3374.635742</td>\n",
              "    </tr>\n",
              "    <tr>\n",
              "      <th>8299043</th>\n",
              "      <td>30.666528</td>\n",
              "      <td>79.538935</td>\n",
              "      <td>30.666528</td>\n",
              "      <td>79.538750</td>\n",
              "      <td>3374.635742</td>\n",
              "    </tr>\n",
              "  </tbody>\n",
              "</table>\n",
              "<p>8299044 rows × 5 columns</p>\n",
              "</div>"
            ],
            "text/plain": [
              "         latitude_x  longitude_x  latitude_y  longitude_y   dem height\n",
              "0         30.880694    79.206806   30.880694    79.206806  5513.889648\n",
              "1         30.880694    79.206898   30.880694    79.206806  5513.889648\n",
              "2         30.880694    79.206991   30.880694    79.206806  5513.889648\n",
              "3         30.880694    79.207083   30.880694    79.207083  5518.893066\n",
              "4         30.880694    79.207176   30.880694    79.207083  5518.893066\n",
              "...             ...          ...         ...          ...          ...\n",
              "8299039   30.666528    79.538565   30.666528    79.538472  3390.635986\n",
              "8299040   30.666528    79.538657   30.666528    79.538472  3390.635986\n",
              "8299041   30.666528    79.538750   30.666528    79.538472  3390.635986\n",
              "8299042   30.666528    79.538843   30.666528    79.538750  3374.635742\n",
              "8299043   30.666528    79.538935   30.666528    79.538750  3374.635742\n",
              "\n",
              "[8299044 rows x 5 columns]"
            ]
          },
          "metadata": {
            "tags": []
          },
          "execution_count": 40
        }
      ]
    },
    {
      "cell_type": "code",
      "metadata": {
        "colab": {
          "base_uri": "https://localhost:8080/",
          "height": 417
        },
        "id": "xGqH5YqqYZg4",
        "outputId": "36cfe27f-6dc3-4dfa-b1ee-832f8e142aa5"
      },
      "source": [
        "final_merged_df.head(6963)"
      ],
      "execution_count": null,
      "outputs": [
        {
          "output_type": "execute_result",
          "data": {
            "text/html": [
              "<div>\n",
              "<style scoped>\n",
              "    .dataframe tbody tr th:only-of-type {\n",
              "        vertical-align: middle;\n",
              "    }\n",
              "\n",
              "    .dataframe tbody tr th {\n",
              "        vertical-align: top;\n",
              "    }\n",
              "\n",
              "    .dataframe thead th {\n",
              "        text-align: right;\n",
              "    }\n",
              "</style>\n",
              "<table border=\"1\" class=\"dataframe\">\n",
              "  <thead>\n",
              "    <tr style=\"text-align: right;\">\n",
              "      <th></th>\n",
              "      <th>latitude_x</th>\n",
              "      <th>longitude_x</th>\n",
              "      <th>latitude_y</th>\n",
              "      <th>longitude_y</th>\n",
              "      <th>dem height</th>\n",
              "    </tr>\n",
              "  </thead>\n",
              "  <tbody>\n",
              "    <tr>\n",
              "      <th>0</th>\n",
              "      <td>30.880694</td>\n",
              "      <td>79.206806</td>\n",
              "      <td>30.880694</td>\n",
              "      <td>79.206806</td>\n",
              "      <td>5513.889648</td>\n",
              "    </tr>\n",
              "    <tr>\n",
              "      <th>1</th>\n",
              "      <td>30.880694</td>\n",
              "      <td>79.206898</td>\n",
              "      <td>30.880694</td>\n",
              "      <td>79.206806</td>\n",
              "      <td>5513.889648</td>\n",
              "    </tr>\n",
              "    <tr>\n",
              "      <th>2</th>\n",
              "      <td>30.880694</td>\n",
              "      <td>79.206991</td>\n",
              "      <td>30.880694</td>\n",
              "      <td>79.206806</td>\n",
              "      <td>5513.889648</td>\n",
              "    </tr>\n",
              "    <tr>\n",
              "      <th>3588</th>\n",
              "      <td>30.880602</td>\n",
              "      <td>79.206806</td>\n",
              "      <td>30.880694</td>\n",
              "      <td>79.206806</td>\n",
              "      <td>5513.889648</td>\n",
              "    </tr>\n",
              "    <tr>\n",
              "      <th>3589</th>\n",
              "      <td>30.880602</td>\n",
              "      <td>79.206898</td>\n",
              "      <td>30.880694</td>\n",
              "      <td>79.206806</td>\n",
              "      <td>5513.889648</td>\n",
              "    </tr>\n",
              "    <tr>\n",
              "      <th>...</th>\n",
              "      <td>...</td>\n",
              "      <td>...</td>\n",
              "      <td>...</td>\n",
              "      <td>...</td>\n",
              "      <td>...</td>\n",
              "    </tr>\n",
              "    <tr>\n",
              "      <th>9494</th>\n",
              "      <td>30.880449</td>\n",
              "      <td>79.421435</td>\n",
              "      <td>30.880515</td>\n",
              "      <td>79.421250</td>\n",
              "      <td>4779.511230</td>\n",
              "    </tr>\n",
              "    <tr>\n",
              "      <th>9495</th>\n",
              "      <td>30.880449</td>\n",
              "      <td>79.421528</td>\n",
              "      <td>30.880515</td>\n",
              "      <td>79.421250</td>\n",
              "      <td>4779.511230</td>\n",
              "    </tr>\n",
              "    <tr>\n",
              "      <th>2320</th>\n",
              "      <td>30.880635</td>\n",
              "      <td>79.421620</td>\n",
              "      <td>30.880515</td>\n",
              "      <td>79.421528</td>\n",
              "      <td>4780.512695</td>\n",
              "    </tr>\n",
              "    <tr>\n",
              "      <th>2321</th>\n",
              "      <td>30.880635</td>\n",
              "      <td>79.421713</td>\n",
              "      <td>30.880515</td>\n",
              "      <td>79.421528</td>\n",
              "      <td>4780.512695</td>\n",
              "    </tr>\n",
              "    <tr>\n",
              "      <th>5908</th>\n",
              "      <td>30.880542</td>\n",
              "      <td>79.421620</td>\n",
              "      <td>30.880515</td>\n",
              "      <td>79.421528</td>\n",
              "      <td>4780.512695</td>\n",
              "    </tr>\n",
              "  </tbody>\n",
              "</table>\n",
              "<p>6963 rows × 5 columns</p>\n",
              "</div>"
            ],
            "text/plain": [
              "      latitude_x  longitude_x  latitude_y  longitude_y   dem height\n",
              "0      30.880694    79.206806   30.880694    79.206806  5513.889648\n",
              "1      30.880694    79.206898   30.880694    79.206806  5513.889648\n",
              "2      30.880694    79.206991   30.880694    79.206806  5513.889648\n",
              "3588   30.880602    79.206806   30.880694    79.206806  5513.889648\n",
              "3589   30.880602    79.206898   30.880694    79.206806  5513.889648\n",
              "...          ...          ...         ...          ...          ...\n",
              "9494   30.880449    79.421435   30.880515    79.421250  4779.511230\n",
              "9495   30.880449    79.421528   30.880515    79.421250  4779.511230\n",
              "2320   30.880635    79.421620   30.880515    79.421528  4780.512695\n",
              "2321   30.880635    79.421713   30.880515    79.421528  4780.512695\n",
              "5908   30.880542    79.421620   30.880515    79.421528  4780.512695\n",
              "\n",
              "[6963 rows x 5 columns]"
            ]
          },
          "metadata": {
            "tags": []
          },
          "execution_count": 41
        }
      ]
    },
    {
      "cell_type": "code",
      "metadata": {
        "id": "1C1ylQtohe0G"
      },
      "source": [
        "X = final_merged_df\n",
        "X = scaler_x.transform(X)"
      ],
      "execution_count": null,
      "outputs": []
    },
    {
      "cell_type": "code",
      "metadata": {
        "id": "PaGWL1RWwDdo"
      },
      "source": [
        ""
      ],
      "execution_count": null,
      "outputs": []
    },
    {
      "cell_type": "code",
      "metadata": {
        "colab": {
          "base_uri": "https://localhost:8080/",
          "height": 417
        },
        "id": "9zOdmqXJysmN",
        "outputId": "3afa87d0-bc36-4bb1-d92d-feca4a4d7232"
      },
      "source": [
        "predictions = model.predict(X)\n",
        "final_merged_df['predictions']=predictions\n",
        "final_merged_df"
      ],
      "execution_count": null,
      "outputs": [
        {
          "output_type": "execute_result",
          "data": {
            "text/html": [
              "<div>\n",
              "<style scoped>\n",
              "    .dataframe tbody tr th:only-of-type {\n",
              "        vertical-align: middle;\n",
              "    }\n",
              "\n",
              "    .dataframe tbody tr th {\n",
              "        vertical-align: top;\n",
              "    }\n",
              "\n",
              "    .dataframe thead th {\n",
              "        text-align: right;\n",
              "    }\n",
              "</style>\n",
              "<table border=\"1\" class=\"dataframe\">\n",
              "  <thead>\n",
              "    <tr style=\"text-align: right;\">\n",
              "      <th></th>\n",
              "      <th>latitude_x</th>\n",
              "      <th>longitude_x</th>\n",
              "      <th>latitude_y</th>\n",
              "      <th>longitude_y</th>\n",
              "      <th>dem height</th>\n",
              "      <th>predictions</th>\n",
              "    </tr>\n",
              "  </thead>\n",
              "  <tbody>\n",
              "    <tr>\n",
              "      <th>0</th>\n",
              "      <td>30.880694</td>\n",
              "      <td>79.206806</td>\n",
              "      <td>30.880694</td>\n",
              "      <td>79.206806</td>\n",
              "      <td>5513.889648</td>\n",
              "      <td>0.617374</td>\n",
              "    </tr>\n",
              "    <tr>\n",
              "      <th>1</th>\n",
              "      <td>30.880694</td>\n",
              "      <td>79.206898</td>\n",
              "      <td>30.880694</td>\n",
              "      <td>79.206806</td>\n",
              "      <td>5513.889648</td>\n",
              "      <td>0.617311</td>\n",
              "    </tr>\n",
              "    <tr>\n",
              "      <th>2</th>\n",
              "      <td>30.880694</td>\n",
              "      <td>79.206991</td>\n",
              "      <td>30.880694</td>\n",
              "      <td>79.206806</td>\n",
              "      <td>5513.889648</td>\n",
              "      <td>0.617247</td>\n",
              "    </tr>\n",
              "    <tr>\n",
              "      <th>3588</th>\n",
              "      <td>30.880602</td>\n",
              "      <td>79.206806</td>\n",
              "      <td>30.880694</td>\n",
              "      <td>79.206806</td>\n",
              "      <td>5513.889648</td>\n",
              "      <td>0.617241</td>\n",
              "    </tr>\n",
              "    <tr>\n",
              "      <th>3589</th>\n",
              "      <td>30.880602</td>\n",
              "      <td>79.206898</td>\n",
              "      <td>30.880694</td>\n",
              "      <td>79.206806</td>\n",
              "      <td>5513.889648</td>\n",
              "      <td>0.617178</td>\n",
              "    </tr>\n",
              "    <tr>\n",
              "      <th>...</th>\n",
              "      <td>...</td>\n",
              "      <td>...</td>\n",
              "      <td>...</td>\n",
              "      <td>...</td>\n",
              "      <td>...</td>\n",
              "      <td>...</td>\n",
              "    </tr>\n",
              "    <tr>\n",
              "      <th>8291867</th>\n",
              "      <td>30.666713</td>\n",
              "      <td>79.538935</td>\n",
              "      <td>30.666528</td>\n",
              "      <td>79.538750</td>\n",
              "      <td>3374.635742</td>\n",
              "      <td>0.130349</td>\n",
              "    </tr>\n",
              "    <tr>\n",
              "      <th>8295454</th>\n",
              "      <td>30.666620</td>\n",
              "      <td>79.538843</td>\n",
              "      <td>30.666528</td>\n",
              "      <td>79.538750</td>\n",
              "      <td>3374.635742</td>\n",
              "      <td>0.130279</td>\n",
              "    </tr>\n",
              "    <tr>\n",
              "      <th>8295455</th>\n",
              "      <td>30.666620</td>\n",
              "      <td>79.538935</td>\n",
              "      <td>30.666528</td>\n",
              "      <td>79.538750</td>\n",
              "      <td>3374.635742</td>\n",
              "      <td>0.130216</td>\n",
              "    </tr>\n",
              "    <tr>\n",
              "      <th>8299042</th>\n",
              "      <td>30.666528</td>\n",
              "      <td>79.538843</td>\n",
              "      <td>30.666528</td>\n",
              "      <td>79.538750</td>\n",
              "      <td>3374.635742</td>\n",
              "      <td>0.130146</td>\n",
              "    </tr>\n",
              "    <tr>\n",
              "      <th>8299043</th>\n",
              "      <td>30.666528</td>\n",
              "      <td>79.538935</td>\n",
              "      <td>30.666528</td>\n",
              "      <td>79.538750</td>\n",
              "      <td>3374.635742</td>\n",
              "      <td>0.130083</td>\n",
              "    </tr>\n",
              "  </tbody>\n",
              "</table>\n",
              "<p>8299044 rows × 6 columns</p>\n",
              "</div>"
            ],
            "text/plain": [
              "         latitude_x  longitude_x  ...   dem height  predictions\n",
              "0         30.880694    79.206806  ...  5513.889648     0.617374\n",
              "1         30.880694    79.206898  ...  5513.889648     0.617311\n",
              "2         30.880694    79.206991  ...  5513.889648     0.617247\n",
              "3588      30.880602    79.206806  ...  5513.889648     0.617241\n",
              "3589      30.880602    79.206898  ...  5513.889648     0.617178\n",
              "...             ...          ...  ...          ...          ...\n",
              "8291867   30.666713    79.538935  ...  3374.635742     0.130349\n",
              "8295454   30.666620    79.538843  ...  3374.635742     0.130279\n",
              "8295455   30.666620    79.538935  ...  3374.635742     0.130216\n",
              "8299042   30.666528    79.538843  ...  3374.635742     0.130146\n",
              "8299043   30.666528    79.538935  ...  3374.635742     0.130083\n",
              "\n",
              "[8299044 rows x 6 columns]"
            ]
          },
          "metadata": {
            "tags": []
          },
          "execution_count": 43
        }
      ]
    },
    {
      "cell_type": "code",
      "metadata": {
        "id": "SkXIfccPzHvG"
      },
      "source": [
        "final_merged_df['height']=scaler_y.inverse_transform(final_merged_df['predictions'].values.reshape(-1, 1))"
      ],
      "execution_count": null,
      "outputs": []
    },
    {
      "cell_type": "code",
      "metadata": {
        "colab": {
          "base_uri": "https://localhost:8080/",
          "height": 417
        },
        "id": "FnTzDVO44cbc",
        "outputId": "4a5a5887-ffed-40f0-8b59-970b1a433096"
      },
      "source": [
        "final_merged_df"
      ],
      "execution_count": null,
      "outputs": [
        {
          "output_type": "execute_result",
          "data": {
            "text/html": [
              "<div>\n",
              "<style scoped>\n",
              "    .dataframe tbody tr th:only-of-type {\n",
              "        vertical-align: middle;\n",
              "    }\n",
              "\n",
              "    .dataframe tbody tr th {\n",
              "        vertical-align: top;\n",
              "    }\n",
              "\n",
              "    .dataframe thead th {\n",
              "        text-align: right;\n",
              "    }\n",
              "</style>\n",
              "<table border=\"1\" class=\"dataframe\">\n",
              "  <thead>\n",
              "    <tr style=\"text-align: right;\">\n",
              "      <th></th>\n",
              "      <th>latitude_x</th>\n",
              "      <th>longitude_x</th>\n",
              "      <th>latitude_y</th>\n",
              "      <th>longitude_y</th>\n",
              "      <th>dem height</th>\n",
              "      <th>predictions</th>\n",
              "      <th>height</th>\n",
              "    </tr>\n",
              "  </thead>\n",
              "  <tbody>\n",
              "    <tr>\n",
              "      <th>0</th>\n",
              "      <td>30.880694</td>\n",
              "      <td>79.206806</td>\n",
              "      <td>30.880694</td>\n",
              "      <td>79.206806</td>\n",
              "      <td>5513.889648</td>\n",
              "      <td>0.617374</td>\n",
              "      <td>5615.386517</td>\n",
              "    </tr>\n",
              "    <tr>\n",
              "      <th>1</th>\n",
              "      <td>30.880694</td>\n",
              "      <td>79.206898</td>\n",
              "      <td>30.880694</td>\n",
              "      <td>79.206806</td>\n",
              "      <td>5513.889648</td>\n",
              "      <td>0.617311</td>\n",
              "      <td>5615.091362</td>\n",
              "    </tr>\n",
              "    <tr>\n",
              "      <th>2</th>\n",
              "      <td>30.880694</td>\n",
              "      <td>79.206991</td>\n",
              "      <td>30.880694</td>\n",
              "      <td>79.206806</td>\n",
              "      <td>5513.889648</td>\n",
              "      <td>0.617247</td>\n",
              "      <td>5614.796207</td>\n",
              "    </tr>\n",
              "    <tr>\n",
              "      <th>3588</th>\n",
              "      <td>30.880602</td>\n",
              "      <td>79.206806</td>\n",
              "      <td>30.880694</td>\n",
              "      <td>79.206806</td>\n",
              "      <td>5513.889648</td>\n",
              "      <td>0.617241</td>\n",
              "      <td>5614.770564</td>\n",
              "    </tr>\n",
              "    <tr>\n",
              "      <th>3589</th>\n",
              "      <td>30.880602</td>\n",
              "      <td>79.206898</td>\n",
              "      <td>30.880694</td>\n",
              "      <td>79.206806</td>\n",
              "      <td>5513.889648</td>\n",
              "      <td>0.617178</td>\n",
              "      <td>5614.475409</td>\n",
              "    </tr>\n",
              "    <tr>\n",
              "      <th>...</th>\n",
              "      <td>...</td>\n",
              "      <td>...</td>\n",
              "      <td>...</td>\n",
              "      <td>...</td>\n",
              "      <td>...</td>\n",
              "      <td>...</td>\n",
              "      <td>...</td>\n",
              "    </tr>\n",
              "    <tr>\n",
              "      <th>8291867</th>\n",
              "      <td>30.666713</td>\n",
              "      <td>79.538935</td>\n",
              "      <td>30.666528</td>\n",
              "      <td>79.538750</td>\n",
              "      <td>3374.635742</td>\n",
              "      <td>0.130349</td>\n",
              "      <td>3359.251419</td>\n",
              "    </tr>\n",
              "    <tr>\n",
              "      <th>8295454</th>\n",
              "      <td>30.666620</td>\n",
              "      <td>79.538843</td>\n",
              "      <td>30.666528</td>\n",
              "      <td>79.538750</td>\n",
              "      <td>3374.635742</td>\n",
              "      <td>0.130279</td>\n",
              "      <td>3358.930621</td>\n",
              "    </tr>\n",
              "    <tr>\n",
              "      <th>8295455</th>\n",
              "      <td>30.666620</td>\n",
              "      <td>79.538935</td>\n",
              "      <td>30.666528</td>\n",
              "      <td>79.538750</td>\n",
              "      <td>3374.635742</td>\n",
              "      <td>0.130216</td>\n",
              "      <td>3358.635466</td>\n",
              "    </tr>\n",
              "    <tr>\n",
              "      <th>8299042</th>\n",
              "      <td>30.666528</td>\n",
              "      <td>79.538843</td>\n",
              "      <td>30.666528</td>\n",
              "      <td>79.538750</td>\n",
              "      <td>3374.635742</td>\n",
              "      <td>0.130146</td>\n",
              "      <td>3358.314668</td>\n",
              "    </tr>\n",
              "    <tr>\n",
              "      <th>8299043</th>\n",
              "      <td>30.666528</td>\n",
              "      <td>79.538935</td>\n",
              "      <td>30.666528</td>\n",
              "      <td>79.538750</td>\n",
              "      <td>3374.635742</td>\n",
              "      <td>0.130083</td>\n",
              "      <td>3358.019513</td>\n",
              "    </tr>\n",
              "  </tbody>\n",
              "</table>\n",
              "<p>8299044 rows × 7 columns</p>\n",
              "</div>"
            ],
            "text/plain": [
              "         latitude_x  longitude_x  ...  predictions       height\n",
              "0         30.880694    79.206806  ...     0.617374  5615.386517\n",
              "1         30.880694    79.206898  ...     0.617311  5615.091362\n",
              "2         30.880694    79.206991  ...     0.617247  5614.796207\n",
              "3588      30.880602    79.206806  ...     0.617241  5614.770564\n",
              "3589      30.880602    79.206898  ...     0.617178  5614.475409\n",
              "...             ...          ...  ...          ...          ...\n",
              "8291867   30.666713    79.538935  ...     0.130349  3359.251419\n",
              "8295454   30.666620    79.538843  ...     0.130279  3358.930621\n",
              "8295455   30.666620    79.538935  ...     0.130216  3358.635466\n",
              "8299042   30.666528    79.538843  ...     0.130146  3358.314668\n",
              "8299043   30.666528    79.538935  ...     0.130083  3358.019513\n",
              "\n",
              "[8299044 rows x 7 columns]"
            ]
          },
          "metadata": {
            "tags": []
          },
          "execution_count": 45
        }
      ]
    },
    {
      "cell_type": "code",
      "metadata": {
        "id": "PJdPcLjWhZ5-"
      },
      "source": [
        "final_merged_df=final_merged_df.sort_index()"
      ],
      "execution_count": null,
      "outputs": []
    },
    {
      "cell_type": "code",
      "metadata": {
        "id": "YDRMOmX06_-o"
      },
      "source": [
        "# from google.colab import files\n",
        "\n",
        "# df.to_csv('final_merged_df.csv')\n",
        "# files.download('final_merged_df.csv')"
      ],
      "execution_count": null,
      "outputs": []
    },
    {
      "cell_type": "code",
      "metadata": {
        "id": "wen4rw_W_tH1"
      },
      "source": [
        "final_merged_df=final_merged_df.drop(columns=['latitude_x','longitude_x','latitude_y','longitude_y','predictions','dem height'])"
      ],
      "execution_count": null,
      "outputs": []
    },
    {
      "cell_type": "code",
      "metadata": {
        "colab": {
          "base_uri": "https://localhost:8080/",
          "height": 417
        },
        "id": "pKRravUoAwRb",
        "outputId": "8eea9b67-8786-49c7-b156-d47d045032d7"
      },
      "source": [
        "final_merged_df"
      ],
      "execution_count": null,
      "outputs": [
        {
          "output_type": "execute_result",
          "data": {
            "text/html": [
              "<div>\n",
              "<style scoped>\n",
              "    .dataframe tbody tr th:only-of-type {\n",
              "        vertical-align: middle;\n",
              "    }\n",
              "\n",
              "    .dataframe tbody tr th {\n",
              "        vertical-align: top;\n",
              "    }\n",
              "\n",
              "    .dataframe thead th {\n",
              "        text-align: right;\n",
              "    }\n",
              "</style>\n",
              "<table border=\"1\" class=\"dataframe\">\n",
              "  <thead>\n",
              "    <tr style=\"text-align: right;\">\n",
              "      <th></th>\n",
              "      <th>height</th>\n",
              "    </tr>\n",
              "  </thead>\n",
              "  <tbody>\n",
              "    <tr>\n",
              "      <th>0</th>\n",
              "      <td>5615.386517</td>\n",
              "    </tr>\n",
              "    <tr>\n",
              "      <th>1</th>\n",
              "      <td>5615.091362</td>\n",
              "    </tr>\n",
              "    <tr>\n",
              "      <th>2</th>\n",
              "      <td>5614.796207</td>\n",
              "    </tr>\n",
              "    <tr>\n",
              "      <th>3</th>\n",
              "      <td>5620.012935</td>\n",
              "    </tr>\n",
              "    <tr>\n",
              "      <th>4</th>\n",
              "      <td>5619.717779</td>\n",
              "    </tr>\n",
              "    <tr>\n",
              "      <th>...</th>\n",
              "      <td>...</td>\n",
              "    </tr>\n",
              "    <tr>\n",
              "      <th>8299039</th>\n",
              "      <td>3373.613814</td>\n",
              "    </tr>\n",
              "    <tr>\n",
              "      <th>8299040</th>\n",
              "      <td>3373.318659</td>\n",
              "    </tr>\n",
              "    <tr>\n",
              "      <th>8299041</th>\n",
              "      <td>3373.023503</td>\n",
              "    </tr>\n",
              "    <tr>\n",
              "      <th>8299042</th>\n",
              "      <td>3358.314668</td>\n",
              "    </tr>\n",
              "    <tr>\n",
              "      <th>8299043</th>\n",
              "      <td>3358.019513</td>\n",
              "    </tr>\n",
              "  </tbody>\n",
              "</table>\n",
              "<p>8299044 rows × 1 columns</p>\n",
              "</div>"
            ],
            "text/plain": [
              "              height\n",
              "0        5615.386517\n",
              "1        5615.091362\n",
              "2        5614.796207\n",
              "3        5620.012935\n",
              "4        5619.717779\n",
              "...              ...\n",
              "8299039  3373.613814\n",
              "8299040  3373.318659\n",
              "8299041  3373.023503\n",
              "8299042  3358.314668\n",
              "8299043  3358.019513\n",
              "\n",
              "[8299044 rows x 1 columns]"
            ]
          },
          "metadata": {
            "tags": []
          },
          "execution_count": 49
        }
      ]
    },
    {
      "cell_type": "code",
      "metadata": {
        "colab": {
          "base_uri": "https://localhost:8080/"
        },
        "id": "UfbY3fkqBNqJ",
        "outputId": "54664a5c-69a5-4da6-b339-70c6cc1e7f1c"
      },
      "source": [
        "finalarray = final_merged_df.to_numpy()\n",
        "finalarray=finalarray.reshape(height*3 ,width*3)\n",
        "finalarray"
      ],
      "execution_count": null,
      "outputs": [
        {
          "output_type": "execute_result",
          "data": {
            "text/plain": [
              "array([[5615.38651713, 5615.09136203, 5614.79620694, ..., 5014.77601481,\n",
              "        5013.34834035, 5013.05318526],\n",
              "       [5614.77056405, 5614.47540895, 5614.18025386, ..., 5014.16006173,\n",
              "        5012.73238727, 5012.43723218],\n",
              "       [5614.15461097, 5613.85945588, 5613.56430078, ..., 5013.54410865,\n",
              "        5012.11643419, 5011.8212791 ],\n",
              "       ...,\n",
              "       [2872.76813416, 2861.87937551, 2861.58422042, ..., 3374.25540961,\n",
              "        3359.54657407, 3359.25141897],\n",
              "       [2861.55857753, 2861.26342244, 2860.96826734, ..., 3373.63945653,\n",
              "        3358.93062099, 3358.63546589],\n",
              "       [2860.94262445, 2860.64746936, 2860.35231426, ..., 3373.02350345,\n",
              "        3358.31466791, 3358.01951281]])"
            ]
          },
          "metadata": {
            "tags": []
          },
          "execution_count": 50
        }
      ]
    },
    {
      "cell_type": "code",
      "metadata": {
        "colab": {
          "base_uri": "https://localhost:8080/"
        },
        "id": "pea81TQX9OhM",
        "outputId": "ac3da69c-2ae8-4c97-be0f-4eafcfefbadb"
      },
      "source": [
        "dst_filename = 'Badrinath2ridgeregression.tiff'\n",
        "x_pixels = width*3  # number of pixels in x\n",
        "y_pixels = height*3  # number of pixels in y\n",
        "driver = gdal.GetDriverByName('GTiff')\n",
        "dataset = driver.Create(dst_filename,x_pixels, y_pixels, 1,gdal.GDT_Float32)\n",
        "dataset.GetRasterBand(1).WriteArray(finalarray)"
      ],
      "execution_count": null,
      "outputs": [
        {
          "output_type": "execute_result",
          "data": {
            "text/plain": [
              "0"
            ]
          },
          "metadata": {
            "tags": []
          },
          "execution_count": 51
        }
      ]
    },
    {
      "cell_type": "code",
      "metadata": {
        "colab": {
          "base_uri": "https://localhost:8080/"
        },
        "id": "ei2MkK7kDRqp",
        "outputId": "d5f83cd3-f750-4f99-b749-89900db7daf5"
      },
      "source": [
        "gt"
      ],
      "execution_count": null,
      "outputs": [
        {
          "output_type": "execute_result",
          "data": {
            "text/plain": [
              "(79.20680555558994,\n",
              " 0.00027777777777781464,\n",
              " 0.0,\n",
              " 30.880694444440582,\n",
              " 0.0,\n",
              " -0.00027777777777781464)"
            ]
          },
          "metadata": {
            "tags": []
          },
          "execution_count": 52
        }
      ]
    },
    {
      "cell_type": "code",
      "metadata": {
        "id": "LHpw8liDDbm-"
      },
      "source": [
        "gtlist = list(gt)\n",
        "gtlist[1]=gtlist[1]/3\n",
        "gtlist[5]=gtlist[5]/3\n",
        "gt=tuple(gtlist)"
      ],
      "execution_count": null,
      "outputs": []
    },
    {
      "cell_type": "code",
      "metadata": {
        "id": "S0ocjbVmCX72"
      },
      "source": [
        "geotrans = gt  #get GeoTranform from existed 'data0'\n",
        "proj=ds.GetProjection() #you can get from a exsited tif or import \n",
        "dataset.SetGeoTransform(geotrans)\n",
        "dataset.SetProjection(proj)\n",
        "dataset.FlushCache()\n",
        "dataset=None"
      ],
      "execution_count": null,
      "outputs": []
    },
    {
      "cell_type": "code",
      "metadata": {
        "colab": {
          "base_uri": "https://localhost:8080/"
        },
        "id": "1fmSN1PEKAbn",
        "outputId": "ee1e1245-df7e-4b4d-a5d6-332687dc52f7"
      },
      "source": [
        "ls"
      ],
      "execution_count": null,
      "outputs": [
        {
          "output_type": "stream",
          "text": [
            "Badrinath2ridgeregression.tiff  sikkim2linearregression.tiff\n",
            "\u001b[0m\u001b[01;34mdrive\u001b[0m/                          udaipur2ridgeregression.tiff\n",
            "\u001b[01;34msample_data\u001b[0m/\n"
          ],
          "name": "stdout"
        }
      ]
    },
    {
      "cell_type": "code",
      "metadata": {
        "id": "seKyWx1mKlkC",
        "colab": {
          "base_uri": "https://localhost:8080/",
          "height": 34
        },
        "outputId": "22a10ee5-dcd5-407a-fe76-6a3ccbd890c0"
      },
      "source": [
        "from google.colab import files\n",
        "files.download('Badrinath2ridgeregression.tiff')"
      ],
      "execution_count": null,
      "outputs": [
        {
          "output_type": "display_data",
          "data": {
            "application/javascript": [
              "\n",
              "    async function download(id, filename, size) {\n",
              "      if (!google.colab.kernel.accessAllowed) {\n",
              "        return;\n",
              "      }\n",
              "      const div = document.createElement('div');\n",
              "      const label = document.createElement('label');\n",
              "      label.textContent = `Downloading \"${filename}\": `;\n",
              "      div.appendChild(label);\n",
              "      const progress = document.createElement('progress');\n",
              "      progress.max = size;\n",
              "      div.appendChild(progress);\n",
              "      document.body.appendChild(div);\n",
              "\n",
              "      const buffers = [];\n",
              "      let downloaded = 0;\n",
              "\n",
              "      const channel = await google.colab.kernel.comms.open(id);\n",
              "      // Send a message to notify the kernel that we're ready.\n",
              "      channel.send({})\n",
              "\n",
              "      for await (const message of channel.messages) {\n",
              "        // Send a message to notify the kernel that we're ready.\n",
              "        channel.send({})\n",
              "        if (message.buffers) {\n",
              "          for (const buffer of message.buffers) {\n",
              "            buffers.push(buffer);\n",
              "            downloaded += buffer.byteLength;\n",
              "            progress.value = downloaded;\n",
              "          }\n",
              "        }\n",
              "      }\n",
              "      const blob = new Blob(buffers, {type: 'application/binary'});\n",
              "      const a = document.createElement('a');\n",
              "      a.href = window.URL.createObjectURL(blob);\n",
              "      a.download = filename;\n",
              "      div.appendChild(a);\n",
              "      a.click();\n",
              "      div.remove();\n",
              "    }\n",
              "  "
            ],
            "text/plain": [
              "<IPython.core.display.Javascript object>"
            ]
          },
          "metadata": {
            "tags": []
          }
        },
        {
          "output_type": "display_data",
          "data": {
            "application/javascript": [
              "download(\"download_b03fb8a9-4fce-4faa-b373-538b218024f3\", \"Badrinath2ridgeregression.tiff\", 33215046)"
            ],
            "text/plain": [
              "<IPython.core.display.Javascript object>"
            ]
          },
          "metadata": {
            "tags": []
          }
        }
      ]
    }
  ]
}