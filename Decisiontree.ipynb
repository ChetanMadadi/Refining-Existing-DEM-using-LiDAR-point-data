{
  "nbformat": 4,
  "nbformat_minor": 0,
  "metadata": {
    "colab": {
      "name": "Decisiontree.ipynb",
      "provenance": [],
      "collapsed_sections": []
    },
    "kernelspec": {
      "display_name": "Python 3",
      "name": "python3"
    },
    "language_info": {
      "name": "python"
    }
  },
  "cells": [
    {
      "cell_type": "code",
      "metadata": {
        "id": "Yn0MuVKEe9dP"
      },
      "source": [
        "import os\n",
        "import glob\n",
        "from osgeo import osr,gdal\n",
        "import numpy as np\n",
        "import pandas as pd\n",
        "import matplotlib.pyplot as plt\n",
        "# !pip install ipython-autotime\n",
        "# %load_ext autotime"
      ],
      "execution_count": null,
      "outputs": []
    },
    {
      "cell_type": "code",
      "metadata": {
        "colab": {
          "base_uri": "https://localhost:8080/"
        },
        "id": "HYxE_R3le-t5",
        "outputId": "e461e70d-5e0a-4509-b994-fcbe91816864"
      },
      "source": [
        "from google.colab import drive\n",
        "drive.mount('/content/drive')"
      ],
      "execution_count": null,
      "outputs": [
        {
          "output_type": "stream",
          "text": [
            "Drive already mounted at /content/drive; to attempt to forcibly remount, call drive.mount(\"/content/drive\", force_remount=True).\n"
          ],
          "name": "stdout"
        }
      ]
    },
    {
      "cell_type": "code",
      "metadata": {
        "colab": {
          "base_uri": "https://localhost:8080/"
        },
        "id": "axzRT-8TfAG0",
        "outputId": "60d88928-c4b7-4760-f326-621124811272"
      },
      "source": [
        "photon_df = pd.read_csv(\"/content/drive/MyDrive/PS data/final.csv\", index_col=0)"
      ],
      "execution_count": null,
      "outputs": [
        {
          "output_type": "stream",
          "text": [
            "/usr/local/lib/python3.7/dist-packages/numpy/lib/arraysetops.py:580: FutureWarning: elementwise comparison failed; returning scalar instead, but in the future will perform elementwise comparison\n",
            "  mask |= (ar1 == a)\n"
          ],
          "name": "stderr"
        }
      ]
    },
    {
      "cell_type": "code",
      "metadata": {
        "colab": {
          "base_uri": "https://localhost:8080/"
        },
        "id": "b4SHFNPEfCRp",
        "outputId": "18e32292-0673-4dd6-d3eb-8cf086107599"
      },
      "source": [
        "ds = gdal.Open(\"/content/drive/MyDrive/PS data/NSikkim_SRTMGL1Ellip.tif\")\n",
        "transform = ds.GetGeoTransform()\n",
        "band = ds.GetRasterBand(1)\n",
        "array = band.ReadAsArray()\n",
        " \n",
        "#plt.imshow(array)\n",
        "array"
      ],
      "execution_count": null,
      "outputs": [
        {
          "output_type": "execute_result",
          "data": {
            "text/plain": [
              "array([[5822.1035, 5805.1045, 5795.1055, ..., 4688.8496, 4673.8496,\n",
              "        4658.85  ],\n",
              "       [5813.102 , 5768.103 , 5750.104 , ..., 4688.8496, 4668.85  ,\n",
              "        4654.85  ],\n",
              "       [5794.101 , 5744.102 , 5719.103 , ..., 4681.8496, 4664.85  ,\n",
              "        4651.8506],\n",
              "       ...,\n",
              "       [4960.5093, 4970.5103, 4981.5117, ..., 1800.882 , 1851.8834,\n",
              "        1891.885 ],\n",
              "       [4968.505 , 4979.5063, 4986.508 , ..., 1779.8793, 1832.8807,\n",
              "        1875.8823],\n",
              "       [4962.501 , 4982.5024, 4996.504 , ..., 1777.8765, 1801.878 ,\n",
              "        1862.8795]], dtype=float32)"
            ]
          },
          "metadata": {
            "tags": []
          },
          "execution_count": 72
        }
      ]
    },
    {
      "cell_type": "code",
      "metadata": {
        "colab": {
          "base_uri": "https://localhost:8080/"
        },
        "id": "uAlSivkkfLD1",
        "outputId": "36fec7a1-2d57-4b17-a3dc-2282a49006ec"
      },
      "source": [
        "width = ds.RasterXSize\n",
        "height = ds.RasterYSize\n",
        "print(width)\n",
        "print(height)"
      ],
      "execution_count": null,
      "outputs": [
        {
          "output_type": "stream",
          "text": [
            "2321\n",
            "1197\n"
          ],
          "name": "stdout"
        }
      ]
    },
    {
      "cell_type": "code",
      "metadata": {
        "id": "Wwq5pxKMfM1O"
      },
      "source": [
        "gt = ds.GetGeoTransform()"
      ],
      "execution_count": null,
      "outputs": []
    },
    {
      "cell_type": "markdown",
      "metadata": {
        "id": "Y9K8spjVuNFC"
      },
      "source": [
        ""
      ]
    },
    {
      "cell_type": "code",
      "metadata": {
        "id": "hhzHnG_TfObW"
      },
      "source": [
        "origin_x = gt[0]\n",
        "origin_y = gt[3]\n",
        "pixel_res_x = gt[1]\n",
        "pixel_res_y = gt[5]"
      ],
      "execution_count": null,
      "outputs": []
    },
    {
      "cell_type": "code",
      "metadata": {
        "id": "tHOGHTsWfSM_"
      },
      "source": [
        "def latitude(n):\n",
        "    return origin_y + (n/width * pixel_res_y)\n",
        "def longitude(n):\n",
        "    return origin_x + (n%width * pixel_res_x)"
      ],
      "execution_count": null,
      "outputs": []
    },
    {
      "cell_type": "code",
      "metadata": {
        "id": "G1ayMPYpfUdn"
      },
      "source": [
        "array = np.array(array)\n",
        "array = array.flatten()\n",
        "dem_df = pd.DataFrame(data = array,columns = ['dem height'])\n",
        "dem_df['index1']=dem_df.index\n",
        "dem_df['latitude'] = dem_df.index1.apply(latitude)\n",
        "dem_df['longitude'] = dem_df.index1.apply(longitude)\n",
        "dem_df = dem_df.drop(['index1'],axis=1)\n",
        "dem_df = dem_df[['latitude','longitude','dem height']]"
      ],
      "execution_count": null,
      "outputs": []
    },
    {
      "cell_type": "code",
      "metadata": {
        "colab": {
          "base_uri": "https://localhost:8080/",
          "height": 419
        },
        "id": "aZ7E5A5afU9E",
        "outputId": "8783c8eb-174e-4f25-d108-ca95c28b7676"
      },
      "source": [
        "dem_df"
      ],
      "execution_count": null,
      "outputs": [
        {
          "output_type": "execute_result",
          "data": {
            "text/html": [
              "<div>\n",
              "<style scoped>\n",
              "    .dataframe tbody tr th:only-of-type {\n",
              "        vertical-align: middle;\n",
              "    }\n",
              "\n",
              "    .dataframe tbody tr th {\n",
              "        vertical-align: top;\n",
              "    }\n",
              "\n",
              "    .dataframe thead th {\n",
              "        text-align: right;\n",
              "    }\n",
              "</style>\n",
              "<table border=\"1\" class=\"dataframe\">\n",
              "  <thead>\n",
              "    <tr style=\"text-align: right;\">\n",
              "      <th></th>\n",
              "      <th>latitude</th>\n",
              "      <th>longitude</th>\n",
              "      <th>dem height</th>\n",
              "    </tr>\n",
              "  </thead>\n",
              "  <tbody>\n",
              "    <tr>\n",
              "      <th>0</th>\n",
              "      <td>27.874028</td>\n",
              "      <td>88.028194</td>\n",
              "      <td>5822.103516</td>\n",
              "    </tr>\n",
              "    <tr>\n",
              "      <th>1</th>\n",
              "      <td>27.874028</td>\n",
              "      <td>88.028472</td>\n",
              "      <td>5805.104492</td>\n",
              "    </tr>\n",
              "    <tr>\n",
              "      <th>2</th>\n",
              "      <td>27.874028</td>\n",
              "      <td>88.028750</td>\n",
              "      <td>5795.105469</td>\n",
              "    </tr>\n",
              "    <tr>\n",
              "      <th>3</th>\n",
              "      <td>27.874027</td>\n",
              "      <td>88.029028</td>\n",
              "      <td>5765.106445</td>\n",
              "    </tr>\n",
              "    <tr>\n",
              "      <th>4</th>\n",
              "      <td>27.874027</td>\n",
              "      <td>88.029306</td>\n",
              "      <td>5758.107422</td>\n",
              "    </tr>\n",
              "    <tr>\n",
              "      <th>...</th>\n",
              "      <td>...</td>\n",
              "      <td>...</td>\n",
              "      <td>...</td>\n",
              "    </tr>\n",
              "    <tr>\n",
              "      <th>2778232</th>\n",
              "      <td>27.541528</td>\n",
              "      <td>88.671528</td>\n",
              "      <td>1763.873535</td>\n",
              "    </tr>\n",
              "    <tr>\n",
              "      <th>2778233</th>\n",
              "      <td>27.541528</td>\n",
              "      <td>88.671806</td>\n",
              "      <td>1767.875000</td>\n",
              "    </tr>\n",
              "    <tr>\n",
              "      <th>2778234</th>\n",
              "      <td>27.541528</td>\n",
              "      <td>88.672083</td>\n",
              "      <td>1777.876465</td>\n",
              "    </tr>\n",
              "    <tr>\n",
              "      <th>2778235</th>\n",
              "      <td>27.541528</td>\n",
              "      <td>88.672361</td>\n",
              "      <td>1801.878052</td>\n",
              "    </tr>\n",
              "    <tr>\n",
              "      <th>2778236</th>\n",
              "      <td>27.541528</td>\n",
              "      <td>88.672639</td>\n",
              "      <td>1862.879517</td>\n",
              "    </tr>\n",
              "  </tbody>\n",
              "</table>\n",
              "<p>2778237 rows × 3 columns</p>\n",
              "</div>"
            ],
            "text/plain": [
              "          latitude  longitude   dem height\n",
              "0        27.874028  88.028194  5822.103516\n",
              "1        27.874028  88.028472  5805.104492\n",
              "2        27.874028  88.028750  5795.105469\n",
              "3        27.874027  88.029028  5765.106445\n",
              "4        27.874027  88.029306  5758.107422\n",
              "...            ...        ...          ...\n",
              "2778232  27.541528  88.671528  1763.873535\n",
              "2778233  27.541528  88.671806  1767.875000\n",
              "2778234  27.541528  88.672083  1777.876465\n",
              "2778235  27.541528  88.672361  1801.878052\n",
              "2778236  27.541528  88.672639  1862.879517\n",
              "\n",
              "[2778237 rows x 3 columns]"
            ]
          },
          "metadata": {
            "tags": []
          },
          "execution_count": 78
        }
      ]
    },
    {
      "cell_type": "code",
      "metadata": {
        "id": "blI3E6T8fYpq"
      },
      "source": [
        "def get_latitude_index(lat):\n",
        "  return int((lat-origin_y)/pixel_res_y)\n",
        "\n",
        "def get_longitude_index(lon):\n",
        "  return int((lon-origin_x)/pixel_res_x)\n",
        "\n",
        "def get_high_res_latitude_index(lat):\n",
        "  return int((lat-origin_y)/(pixel_res_y/3))\n",
        "\n",
        "def get_high_res_longitude_index(lon):\n",
        "  return int((lon-origin_x)/(pixel_res_x/3))"
      ],
      "execution_count": null,
      "outputs": []
    },
    {
      "cell_type": "code",
      "metadata": {
        "id": "tzNndCpIfZYE"
      },
      "source": [
        "photon_df['latitude_index']= photon_df.latitude.apply(get_latitude_index)\n",
        "photon_df['longitude_index']= photon_df.longitude.apply(get_longitude_index)\n",
        "photon_df['latitude_index2']= photon_df.latitude.apply(get_high_res_latitude_index)\n",
        "photon_df['longitude_index2']= photon_df.longitude.apply(get_high_res_longitude_index)"
      ],
      "execution_count": null,
      "outputs": []
    },
    {
      "cell_type": "code",
      "metadata": {
        "id": "slrI-qJCfcpe"
      },
      "source": [
        "photon_df['container_box_id']=(photon_df['latitude_index'])*(width)+photon_df['longitude_index']"
      ],
      "execution_count": null,
      "outputs": []
    },
    {
      "cell_type": "code",
      "metadata": {
        "id": "g8CXqz4d5WVm"
      },
      "source": [
        "photon_df['container_box_id2']=(photon_df['latitude_index2'])*(width*3)+photon_df['longitude_index2']"
      ],
      "execution_count": null,
      "outputs": []
    },
    {
      "cell_type": "code",
      "metadata": {
        "colab": {
          "base_uri": "https://localhost:8080/",
          "height": 487
        },
        "id": "p8WlSexHTKug",
        "outputId": "c96ae9a1-6e92-4303-fc6e-3b16c2dc90af"
      },
      "source": [
        "photon_df"
      ],
      "execution_count": null,
      "outputs": [
        {
          "output_type": "execute_result",
          "data": {
            "text/html": [
              "<div>\n",
              "<style scoped>\n",
              "    .dataframe tbody tr th:only-of-type {\n",
              "        vertical-align: middle;\n",
              "    }\n",
              "\n",
              "    .dataframe tbody tr th {\n",
              "        vertical-align: top;\n",
              "    }\n",
              "\n",
              "    .dataframe thead th {\n",
              "        text-align: right;\n",
              "    }\n",
              "</style>\n",
              "<table border=\"1\" class=\"dataframe\">\n",
              "  <thead>\n",
              "    <tr style=\"text-align: right;\">\n",
              "      <th></th>\n",
              "      <th>latitude</th>\n",
              "      <th>longitude</th>\n",
              "      <th>photon height</th>\n",
              "      <th>latitude_index</th>\n",
              "      <th>longitude_index</th>\n",
              "      <th>latitude_index2</th>\n",
              "      <th>longitude_index2</th>\n",
              "      <th>container_box_id</th>\n",
              "      <th>container_box_id2</th>\n",
              "    </tr>\n",
              "    <tr>\n",
              "      <th>index</th>\n",
              "      <th></th>\n",
              "      <th></th>\n",
              "      <th></th>\n",
              "      <th></th>\n",
              "      <th></th>\n",
              "      <th></th>\n",
              "      <th></th>\n",
              "      <th></th>\n",
              "      <th></th>\n",
              "    </tr>\n",
              "  </thead>\n",
              "  <tbody>\n",
              "    <tr>\n",
              "      <th>0</th>\n",
              "      <td>27.841415</td>\n",
              "      <td>88.454983</td>\n",
              "      <td>4309.2500</td>\n",
              "      <td>117</td>\n",
              "      <td>1536</td>\n",
              "      <td>352</td>\n",
              "      <td>4609</td>\n",
              "      <td>273093</td>\n",
              "      <td>2455585</td>\n",
              "    </tr>\n",
              "    <tr>\n",
              "      <th>1</th>\n",
              "      <td>27.841344</td>\n",
              "      <td>88.454975</td>\n",
              "      <td>4311.4966</td>\n",
              "      <td>117</td>\n",
              "      <td>1536</td>\n",
              "      <td>352</td>\n",
              "      <td>4609</td>\n",
              "      <td>273093</td>\n",
              "      <td>2455585</td>\n",
              "    </tr>\n",
              "    <tr>\n",
              "      <th>2</th>\n",
              "      <td>27.841325</td>\n",
              "      <td>88.454973</td>\n",
              "      <td>4312.4316</td>\n",
              "      <td>117</td>\n",
              "      <td>1536</td>\n",
              "      <td>353</td>\n",
              "      <td>4609</td>\n",
              "      <td>273093</td>\n",
              "      <td>2462548</td>\n",
              "    </tr>\n",
              "    <tr>\n",
              "      <th>3</th>\n",
              "      <td>27.841313</td>\n",
              "      <td>88.454972</td>\n",
              "      <td>4310.0664</td>\n",
              "      <td>117</td>\n",
              "      <td>1536</td>\n",
              "      <td>353</td>\n",
              "      <td>4609</td>\n",
              "      <td>273093</td>\n",
              "      <td>2462548</td>\n",
              "    </tr>\n",
              "    <tr>\n",
              "      <th>4</th>\n",
              "      <td>27.841287</td>\n",
              "      <td>88.454969</td>\n",
              "      <td>4311.5400</td>\n",
              "      <td>117</td>\n",
              "      <td>1536</td>\n",
              "      <td>353</td>\n",
              "      <td>4609</td>\n",
              "      <td>273093</td>\n",
              "      <td>2462548</td>\n",
              "    </tr>\n",
              "    <tr>\n",
              "      <th>...</th>\n",
              "      <td>...</td>\n",
              "      <td>...</td>\n",
              "      <td>...</td>\n",
              "      <td>...</td>\n",
              "      <td>...</td>\n",
              "      <td>...</td>\n",
              "      <td>...</td>\n",
              "      <td>...</td>\n",
              "      <td>...</td>\n",
              "    </tr>\n",
              "    <tr>\n",
              "      <th>170384</th>\n",
              "      <td>27.476968</td>\n",
              "      <td>88.414181</td>\n",
              "      <td>2974.6000</td>\n",
              "      <td>1429</td>\n",
              "      <td>1389</td>\n",
              "      <td>4288</td>\n",
              "      <td>4168</td>\n",
              "      <td>3318098</td>\n",
              "      <td>29861512</td>\n",
              "    </tr>\n",
              "    <tr>\n",
              "      <th>170386</th>\n",
              "      <td>27.476955</td>\n",
              "      <td>88.414180</td>\n",
              "      <td>2973.3796</td>\n",
              "      <td>1429</td>\n",
              "      <td>1389</td>\n",
              "      <td>4288</td>\n",
              "      <td>4168</td>\n",
              "      <td>3318098</td>\n",
              "      <td>29861512</td>\n",
              "    </tr>\n",
              "    <tr>\n",
              "      <th>170387</th>\n",
              "      <td>27.476949</td>\n",
              "      <td>88.414179</td>\n",
              "      <td>2970.8690</td>\n",
              "      <td>1429</td>\n",
              "      <td>1389</td>\n",
              "      <td>4288</td>\n",
              "      <td>4168</td>\n",
              "      <td>3318098</td>\n",
              "      <td>29861512</td>\n",
              "    </tr>\n",
              "    <tr>\n",
              "      <th>170389</th>\n",
              "      <td>27.476935</td>\n",
              "      <td>88.414177</td>\n",
              "      <td>2978.5332</td>\n",
              "      <td>1429</td>\n",
              "      <td>1389</td>\n",
              "      <td>4288</td>\n",
              "      <td>4168</td>\n",
              "      <td>3318098</td>\n",
              "      <td>29861512</td>\n",
              "    </tr>\n",
              "    <tr>\n",
              "      <th>170390</th>\n",
              "      <td>27.476930</td>\n",
              "      <td>88.414177</td>\n",
              "      <td>2968.1167</td>\n",
              "      <td>1429</td>\n",
              "      <td>1389</td>\n",
              "      <td>4288</td>\n",
              "      <td>4168</td>\n",
              "      <td>3318098</td>\n",
              "      <td>29861512</td>\n",
              "    </tr>\n",
              "  </tbody>\n",
              "</table>\n",
              "<p>6907840 rows × 9 columns</p>\n",
              "</div>"
            ],
            "text/plain": [
              "         latitude  longitude  ...  container_box_id  container_box_id2\n",
              "index                         ...                                     \n",
              "0       27.841415  88.454983  ...            273093            2455585\n",
              "1       27.841344  88.454975  ...            273093            2455585\n",
              "2       27.841325  88.454973  ...            273093            2462548\n",
              "3       27.841313  88.454972  ...            273093            2462548\n",
              "4       27.841287  88.454969  ...            273093            2462548\n",
              "...           ...        ...  ...               ...                ...\n",
              "170384  27.476968  88.414181  ...           3318098           29861512\n",
              "170386  27.476955  88.414180  ...           3318098           29861512\n",
              "170387  27.476949  88.414179  ...           3318098           29861512\n",
              "170389  27.476935  88.414177  ...           3318098           29861512\n",
              "170390  27.476930  88.414177  ...           3318098           29861512\n",
              "\n",
              "[6907840 rows x 9 columns]"
            ]
          },
          "metadata": {
            "tags": []
          },
          "execution_count": 83
        }
      ]
    },
    {
      "cell_type": "code",
      "metadata": {
        "colab": {
          "base_uri": "https://localhost:8080/",
          "height": 487
        },
        "id": "6RZFpMdtfeBN",
        "outputId": "362ce81a-34b2-4d9f-f5e9-59fffd185300"
      },
      "source": [
        "photon_df=photon_df.groupby(['container_box_id2']).mean()\n",
        "photon_df"
      ],
      "execution_count": null,
      "outputs": [
        {
          "output_type": "execute_result",
          "data": {
            "text/html": [
              "<div>\n",
              "<style scoped>\n",
              "    .dataframe tbody tr th:only-of-type {\n",
              "        vertical-align: middle;\n",
              "    }\n",
              "\n",
              "    .dataframe tbody tr th {\n",
              "        vertical-align: top;\n",
              "    }\n",
              "\n",
              "    .dataframe thead th {\n",
              "        text-align: right;\n",
              "    }\n",
              "</style>\n",
              "<table border=\"1\" class=\"dataframe\">\n",
              "  <thead>\n",
              "    <tr style=\"text-align: right;\">\n",
              "      <th></th>\n",
              "      <th>latitude</th>\n",
              "      <th>longitude</th>\n",
              "      <th>photon height</th>\n",
              "      <th>latitude_index</th>\n",
              "      <th>longitude_index</th>\n",
              "      <th>latitude_index2</th>\n",
              "      <th>longitude_index2</th>\n",
              "      <th>container_box_id</th>\n",
              "    </tr>\n",
              "    <tr>\n",
              "      <th>container_box_id2</th>\n",
              "      <th></th>\n",
              "      <th></th>\n",
              "      <th></th>\n",
              "      <th></th>\n",
              "      <th></th>\n",
              "      <th></th>\n",
              "      <th></th>\n",
              "      <th></th>\n",
              "    </tr>\n",
              "  </thead>\n",
              "  <tbody>\n",
              "    <tr>\n",
              "      <th>2437884</th>\n",
              "      <td>27.841537</td>\n",
              "      <td>88.105476</td>\n",
              "      <td>5948.792200</td>\n",
              "      <td>116</td>\n",
              "      <td>278</td>\n",
              "      <td>350</td>\n",
              "      <td>834</td>\n",
              "      <td>269514</td>\n",
              "    </tr>\n",
              "    <tr>\n",
              "      <th>2438062</th>\n",
              "      <td>27.841543</td>\n",
              "      <td>88.121953</td>\n",
              "      <td>5666.793253</td>\n",
              "      <td>116</td>\n",
              "      <td>337</td>\n",
              "      <td>350</td>\n",
              "      <td>1012</td>\n",
              "      <td>269573</td>\n",
              "    </tr>\n",
              "    <tr>\n",
              "      <th>2438449</th>\n",
              "      <td>27.841543</td>\n",
              "      <td>88.157734</td>\n",
              "      <td>5713.768833</td>\n",
              "      <td>116</td>\n",
              "      <td>466</td>\n",
              "      <td>350</td>\n",
              "      <td>1399</td>\n",
              "      <td>269702</td>\n",
              "    </tr>\n",
              "    <tr>\n",
              "      <th>2438496</th>\n",
              "      <td>27.841533</td>\n",
              "      <td>88.162106</td>\n",
              "      <td>5761.059586</td>\n",
              "      <td>116</td>\n",
              "      <td>482</td>\n",
              "      <td>350</td>\n",
              "      <td>1446</td>\n",
              "      <td>269718</td>\n",
              "    </tr>\n",
              "    <tr>\n",
              "      <th>2438852</th>\n",
              "      <td>27.841550</td>\n",
              "      <td>88.195082</td>\n",
              "      <td>6397.295459</td>\n",
              "      <td>116</td>\n",
              "      <td>600</td>\n",
              "      <td>350</td>\n",
              "      <td>1802</td>\n",
              "      <td>269836</td>\n",
              "    </tr>\n",
              "    <tr>\n",
              "      <th>...</th>\n",
              "      <td>...</td>\n",
              "      <td>...</td>\n",
              "      <td>...</td>\n",
              "      <td>...</td>\n",
              "      <td>...</td>\n",
              "      <td>...</td>\n",
              "      <td>...</td>\n",
              "      <td>...</td>\n",
              "    </tr>\n",
              "    <tr>\n",
              "      <th>29871178</th>\n",
              "      <td>27.476866</td>\n",
              "      <td>88.664467</td>\n",
              "      <td>2560.722950</td>\n",
              "      <td>1429</td>\n",
              "      <td>2290</td>\n",
              "      <td>4289</td>\n",
              "      <td>6871</td>\n",
              "      <td>3318999</td>\n",
              "    </tr>\n",
              "    <tr>\n",
              "      <th>29871188</th>\n",
              "      <td>27.476889</td>\n",
              "      <td>88.665360</td>\n",
              "      <td>2485.663000</td>\n",
              "      <td>1429</td>\n",
              "      <td>2293</td>\n",
              "      <td>4289</td>\n",
              "      <td>6881</td>\n",
              "      <td>3319002</td>\n",
              "    </tr>\n",
              "    <tr>\n",
              "      <th>29872284</th>\n",
              "      <td>27.476802</td>\n",
              "      <td>88.122096</td>\n",
              "      <td>4090.300300</td>\n",
              "      <td>1430</td>\n",
              "      <td>338</td>\n",
              "      <td>4290</td>\n",
              "      <td>1014</td>\n",
              "      <td>3319368</td>\n",
              "    </tr>\n",
              "    <tr>\n",
              "      <th>29872894</th>\n",
              "      <td>27.476804</td>\n",
              "      <td>88.178649</td>\n",
              "      <td>3642.655300</td>\n",
              "      <td>1430</td>\n",
              "      <td>541</td>\n",
              "      <td>4290</td>\n",
              "      <td>1624</td>\n",
              "      <td>3319571</td>\n",
              "    </tr>\n",
              "    <tr>\n",
              "      <th>29877802</th>\n",
              "      <td>27.476801</td>\n",
              "      <td>88.633043</td>\n",
              "      <td>3144.634275</td>\n",
              "      <td>1430</td>\n",
              "      <td>2177</td>\n",
              "      <td>4290</td>\n",
              "      <td>6532</td>\n",
              "      <td>3321207</td>\n",
              "    </tr>\n",
              "  </tbody>\n",
              "</table>\n",
              "<p>148119 rows × 8 columns</p>\n",
              "</div>"
            ],
            "text/plain": [
              "                    latitude  longitude  ...  longitude_index2  container_box_id\n",
              "container_box_id2                        ...                                    \n",
              "2437884            27.841537  88.105476  ...               834            269514\n",
              "2438062            27.841543  88.121953  ...              1012            269573\n",
              "2438449            27.841543  88.157734  ...              1399            269702\n",
              "2438496            27.841533  88.162106  ...              1446            269718\n",
              "2438852            27.841550  88.195082  ...              1802            269836\n",
              "...                      ...        ...  ...               ...               ...\n",
              "29871178           27.476866  88.664467  ...              6871           3318999\n",
              "29871188           27.476889  88.665360  ...              6881           3319002\n",
              "29872284           27.476802  88.122096  ...              1014           3319368\n",
              "29872894           27.476804  88.178649  ...              1624           3319571\n",
              "29877802           27.476801  88.633043  ...              6532           3321207\n",
              "\n",
              "[148119 rows x 8 columns]"
            ]
          },
          "metadata": {
            "tags": []
          },
          "execution_count": 84
        }
      ]
    },
    {
      "cell_type": "code",
      "metadata": {
        "id": "o22As3zrffxs"
      },
      "source": [
        "photon_df=photon_df.drop(['latitude_index'],axis=1)\n",
        "photon_df=photon_df.drop(['longitude_index'],axis=1)\n",
        "photon_df=photon_df.drop(['latitude_index2'],axis=1)\n",
        "photon_df=photon_df.drop(['longitude_index2'],axis=1)\n",
        "photon_df.reset_index(drop=True, inplace=True)"
      ],
      "execution_count": null,
      "outputs": []
    },
    {
      "cell_type": "code",
      "metadata": {
        "id": "sbtGjFGQ_3Hl"
      },
      "source": [
        "photon_df[\"container_box_id\"] = photon_df[\"container_box_id\"].astype(int)"
      ],
      "execution_count": null,
      "outputs": []
    },
    {
      "cell_type": "code",
      "metadata": {
        "colab": {
          "base_uri": "https://localhost:8080/",
          "height": 419
        },
        "id": "Jc6ICIcf-pd5",
        "outputId": "3cce82aa-d10a-4d40-cc88-d2b782e73e2a"
      },
      "source": [
        "photon_df"
      ],
      "execution_count": null,
      "outputs": [
        {
          "output_type": "execute_result",
          "data": {
            "text/html": [
              "<div>\n",
              "<style scoped>\n",
              "    .dataframe tbody tr th:only-of-type {\n",
              "        vertical-align: middle;\n",
              "    }\n",
              "\n",
              "    .dataframe tbody tr th {\n",
              "        vertical-align: top;\n",
              "    }\n",
              "\n",
              "    .dataframe thead th {\n",
              "        text-align: right;\n",
              "    }\n",
              "</style>\n",
              "<table border=\"1\" class=\"dataframe\">\n",
              "  <thead>\n",
              "    <tr style=\"text-align: right;\">\n",
              "      <th></th>\n",
              "      <th>latitude</th>\n",
              "      <th>longitude</th>\n",
              "      <th>photon height</th>\n",
              "      <th>container_box_id</th>\n",
              "    </tr>\n",
              "  </thead>\n",
              "  <tbody>\n",
              "    <tr>\n",
              "      <th>0</th>\n",
              "      <td>27.841537</td>\n",
              "      <td>88.105476</td>\n",
              "      <td>5948.792200</td>\n",
              "      <td>269514</td>\n",
              "    </tr>\n",
              "    <tr>\n",
              "      <th>1</th>\n",
              "      <td>27.841543</td>\n",
              "      <td>88.121953</td>\n",
              "      <td>5666.793253</td>\n",
              "      <td>269573</td>\n",
              "    </tr>\n",
              "    <tr>\n",
              "      <th>2</th>\n",
              "      <td>27.841543</td>\n",
              "      <td>88.157734</td>\n",
              "      <td>5713.768833</td>\n",
              "      <td>269702</td>\n",
              "    </tr>\n",
              "    <tr>\n",
              "      <th>3</th>\n",
              "      <td>27.841533</td>\n",
              "      <td>88.162106</td>\n",
              "      <td>5761.059586</td>\n",
              "      <td>269718</td>\n",
              "    </tr>\n",
              "    <tr>\n",
              "      <th>4</th>\n",
              "      <td>27.841550</td>\n",
              "      <td>88.195082</td>\n",
              "      <td>6397.295459</td>\n",
              "      <td>269836</td>\n",
              "    </tr>\n",
              "    <tr>\n",
              "      <th>...</th>\n",
              "      <td>...</td>\n",
              "      <td>...</td>\n",
              "      <td>...</td>\n",
              "      <td>...</td>\n",
              "    </tr>\n",
              "    <tr>\n",
              "      <th>148114</th>\n",
              "      <td>27.476866</td>\n",
              "      <td>88.664467</td>\n",
              "      <td>2560.722950</td>\n",
              "      <td>3318999</td>\n",
              "    </tr>\n",
              "    <tr>\n",
              "      <th>148115</th>\n",
              "      <td>27.476889</td>\n",
              "      <td>88.665360</td>\n",
              "      <td>2485.663000</td>\n",
              "      <td>3319002</td>\n",
              "    </tr>\n",
              "    <tr>\n",
              "      <th>148116</th>\n",
              "      <td>27.476802</td>\n",
              "      <td>88.122096</td>\n",
              "      <td>4090.300300</td>\n",
              "      <td>3319368</td>\n",
              "    </tr>\n",
              "    <tr>\n",
              "      <th>148117</th>\n",
              "      <td>27.476804</td>\n",
              "      <td>88.178649</td>\n",
              "      <td>3642.655300</td>\n",
              "      <td>3319571</td>\n",
              "    </tr>\n",
              "    <tr>\n",
              "      <th>148118</th>\n",
              "      <td>27.476801</td>\n",
              "      <td>88.633043</td>\n",
              "      <td>3144.634275</td>\n",
              "      <td>3321207</td>\n",
              "    </tr>\n",
              "  </tbody>\n",
              "</table>\n",
              "<p>148119 rows × 4 columns</p>\n",
              "</div>"
            ],
            "text/plain": [
              "         latitude  longitude  photon height  container_box_id\n",
              "0       27.841537  88.105476    5948.792200            269514\n",
              "1       27.841543  88.121953    5666.793253            269573\n",
              "2       27.841543  88.157734    5713.768833            269702\n",
              "3       27.841533  88.162106    5761.059586            269718\n",
              "4       27.841550  88.195082    6397.295459            269836\n",
              "...           ...        ...            ...               ...\n",
              "148114  27.476866  88.664467    2560.722950           3318999\n",
              "148115  27.476889  88.665360    2485.663000           3319002\n",
              "148116  27.476802  88.122096    4090.300300           3319368\n",
              "148117  27.476804  88.178649    3642.655300           3319571\n",
              "148118  27.476801  88.633043    3144.634275           3321207\n",
              "\n",
              "[148119 rows x 4 columns]"
            ]
          },
          "metadata": {
            "tags": []
          },
          "execution_count": 87
        }
      ]
    },
    {
      "cell_type": "code",
      "metadata": {
        "id": "BxbFHHgMfoba"
      },
      "source": [
        "merged_df = photon_df.merge(dem_df, left_on='container_box_id', right_index = True)"
      ],
      "execution_count": null,
      "outputs": []
    },
    {
      "cell_type": "code",
      "metadata": {
        "colab": {
          "base_uri": "https://localhost:8080/",
          "height": 456
        },
        "id": "Hb6s4rrwgJcp",
        "outputId": "27c75f08-2ab8-4088-a2da-d44a45263a7c"
      },
      "source": [
        "merged_df"
      ],
      "execution_count": null,
      "outputs": [
        {
          "output_type": "execute_result",
          "data": {
            "text/html": [
              "<div>\n",
              "<style scoped>\n",
              "    .dataframe tbody tr th:only-of-type {\n",
              "        vertical-align: middle;\n",
              "    }\n",
              "\n",
              "    .dataframe tbody tr th {\n",
              "        vertical-align: top;\n",
              "    }\n",
              "\n",
              "    .dataframe thead th {\n",
              "        text-align: right;\n",
              "    }\n",
              "</style>\n",
              "<table border=\"1\" class=\"dataframe\">\n",
              "  <thead>\n",
              "    <tr style=\"text-align: right;\">\n",
              "      <th></th>\n",
              "      <th>latitude_x</th>\n",
              "      <th>longitude_x</th>\n",
              "      <th>photon height</th>\n",
              "      <th>container_box_id</th>\n",
              "      <th>latitude_y</th>\n",
              "      <th>longitude_y</th>\n",
              "      <th>dem height</th>\n",
              "    </tr>\n",
              "  </thead>\n",
              "  <tbody>\n",
              "    <tr>\n",
              "      <th>0</th>\n",
              "      <td>27.841537</td>\n",
              "      <td>88.105476</td>\n",
              "      <td>5948.792200</td>\n",
              "      <td>269514</td>\n",
              "      <td>27.841772</td>\n",
              "      <td>88.105417</td>\n",
              "      <td>5977.253906</td>\n",
              "    </tr>\n",
              "    <tr>\n",
              "      <th>1</th>\n",
              "      <td>27.841543</td>\n",
              "      <td>88.121953</td>\n",
              "      <td>5666.793253</td>\n",
              "      <td>269573</td>\n",
              "      <td>27.841765</td>\n",
              "      <td>88.121806</td>\n",
              "      <td>5681.316895</td>\n",
              "    </tr>\n",
              "    <tr>\n",
              "      <th>2</th>\n",
              "      <td>27.841543</td>\n",
              "      <td>88.157734</td>\n",
              "      <td>5713.768833</td>\n",
              "      <td>269702</td>\n",
              "      <td>27.841750</td>\n",
              "      <td>88.157639</td>\n",
              "      <td>5724.455078</td>\n",
              "    </tr>\n",
              "    <tr>\n",
              "      <th>3</th>\n",
              "      <td>27.841533</td>\n",
              "      <td>88.162106</td>\n",
              "      <td>5761.059586</td>\n",
              "      <td>269718</td>\n",
              "      <td>27.841748</td>\n",
              "      <td>88.162083</td>\n",
              "      <td>5768.472168</td>\n",
              "    </tr>\n",
              "    <tr>\n",
              "      <th>4</th>\n",
              "      <td>27.841550</td>\n",
              "      <td>88.195082</td>\n",
              "      <td>6397.295459</td>\n",
              "      <td>269836</td>\n",
              "      <td>27.841734</td>\n",
              "      <td>88.194861</td>\n",
              "      <td>6399.598145</td>\n",
              "    </tr>\n",
              "    <tr>\n",
              "      <th>...</th>\n",
              "      <td>...</td>\n",
              "      <td>...</td>\n",
              "      <td>...</td>\n",
              "      <td>...</td>\n",
              "      <td>...</td>\n",
              "      <td>...</td>\n",
              "      <td>...</td>\n",
              "    </tr>\n",
              "    <tr>\n",
              "      <th>122495</th>\n",
              "      <td>27.541653</td>\n",
              "      <td>88.130132</td>\n",
              "      <td>4247.735980</td>\n",
              "      <td>2776282</td>\n",
              "      <td>27.541762</td>\n",
              "      <td>88.129861</td>\n",
              "      <td>4263.985352</td>\n",
              "    </tr>\n",
              "    <tr>\n",
              "      <th>122526</th>\n",
              "      <td>27.541587</td>\n",
              "      <td>88.130125</td>\n",
              "      <td>4248.245733</td>\n",
              "      <td>2776282</td>\n",
              "      <td>27.541762</td>\n",
              "      <td>88.129861</td>\n",
              "      <td>4263.985352</td>\n",
              "    </tr>\n",
              "    <tr>\n",
              "      <th>122500</th>\n",
              "      <td>27.541648</td>\n",
              "      <td>88.157914</td>\n",
              "      <td>4505.259352</td>\n",
              "      <td>2776382</td>\n",
              "      <td>27.541750</td>\n",
              "      <td>88.157639</td>\n",
              "      <td>4514.117676</td>\n",
              "    </tr>\n",
              "    <tr>\n",
              "      <th>122532</th>\n",
              "      <td>27.541575</td>\n",
              "      <td>88.157906</td>\n",
              "      <td>4504.336393</td>\n",
              "      <td>2776382</td>\n",
              "      <td>27.541750</td>\n",
              "      <td>88.157639</td>\n",
              "      <td>4514.117676</td>\n",
              "    </tr>\n",
              "    <tr>\n",
              "      <th>122550</th>\n",
              "      <td>27.541537</td>\n",
              "      <td>88.658287</td>\n",
              "      <td>2068.572000</td>\n",
              "      <td>2778184</td>\n",
              "      <td>27.541534</td>\n",
              "      <td>88.658194</td>\n",
              "      <td>2090.800537</td>\n",
              "    </tr>\n",
              "  </tbody>\n",
              "</table>\n",
              "<p>122549 rows × 7 columns</p>\n",
              "</div>"
            ],
            "text/plain": [
              "        latitude_x  longitude_x  ...  longitude_y   dem height\n",
              "0        27.841537    88.105476  ...    88.105417  5977.253906\n",
              "1        27.841543    88.121953  ...    88.121806  5681.316895\n",
              "2        27.841543    88.157734  ...    88.157639  5724.455078\n",
              "3        27.841533    88.162106  ...    88.162083  5768.472168\n",
              "4        27.841550    88.195082  ...    88.194861  6399.598145\n",
              "...            ...          ...  ...          ...          ...\n",
              "122495   27.541653    88.130132  ...    88.129861  4263.985352\n",
              "122526   27.541587    88.130125  ...    88.129861  4263.985352\n",
              "122500   27.541648    88.157914  ...    88.157639  4514.117676\n",
              "122532   27.541575    88.157906  ...    88.157639  4514.117676\n",
              "122550   27.541537    88.658287  ...    88.658194  2090.800537\n",
              "\n",
              "[122549 rows x 7 columns]"
            ]
          },
          "metadata": {
            "tags": []
          },
          "execution_count": 89
        }
      ]
    },
    {
      "cell_type": "code",
      "metadata": {
        "id": "HinPKqthZFB1"
      },
      "source": [
        "merged_df = merged_df.drop[]"
      ],
      "execution_count": null,
      "outputs": []
    },
    {
      "cell_type": "code",
      "metadata": {
        "id": "r-UHkup4gKq9"
      },
      "source": [
        "merged_df.drop(columns = ['container_box_id'], inplace = True)\n",
        "X = merged_df.drop('photon height',axis=1)\n",
        "y = merged_df['photon height']"
      ],
      "execution_count": null,
      "outputs": []
    },
    {
      "cell_type": "code",
      "metadata": {
        "id": "k9EKG7J0gzec"
      },
      "source": [
        "from sklearn.model_selection import GridSearchCV"
      ],
      "execution_count": null,
      "outputs": []
    },
    {
      "cell_type": "code",
      "metadata": {
        "id": "PCmsNpPEg_Rj"
      },
      "source": [
        "#To get the best parameters for our model\n",
        "# from sklearn.model_selection import GridSearchCV\n",
        "\n",
        "# model = DecisionTreeRegressor()\n",
        "\n",
        "# grid_search = GridSearchCV(model,\n",
        "#                   param_grid = {'max_depth': range(1, 11),\n",
        "#                                 'min_samples_split': range(10, 60, 10)},\n",
        "#                   cv=5,\n",
        "#                   n_jobs=1,\n",
        "#                   scoring='neg_mean_squared_error')\n",
        "\n",
        "# grid_search.fit(X, y)\n",
        "\n",
        "# print(grid_search.best_params_)\n",
        "# print(-grid_search.best_score_)"
      ],
      "execution_count": null,
      "outputs": []
    },
    {
      "cell_type": "code",
      "metadata": {
        "colab": {
          "base_uri": "https://localhost:8080/"
        },
        "id": "KJT1999NyOMP",
        "outputId": "5ab8314a-0c26-4f74-fa23-3bd1e14b2e54"
      },
      "source": [
        "from sklearn.tree import DecisionTreeRegressor\n",
        "model = DecisionTreeRegressor(max_depth=10,\n",
        "                                  min_samples_split=40)\n",
        "model.fit(X, y)"
      ],
      "execution_count": null,
      "outputs": [
        {
          "output_type": "execute_result",
          "data": {
            "text/plain": [
              "DecisionTreeRegressor(ccp_alpha=0.0, criterion='mse', max_depth=10,\n",
              "                      max_features=None, max_leaf_nodes=None,\n",
              "                      min_impurity_decrease=0.0, min_impurity_split=None,\n",
              "                      min_samples_leaf=1, min_samples_split=40,\n",
              "                      min_weight_fraction_leaf=0.0, presort='deprecated',\n",
              "                      random_state=None, splitter='best')"
            ]
          },
          "metadata": {
            "tags": []
          },
          "execution_count": 93
        }
      ]
    },
    {
      "cell_type": "code",
      "metadata": {
        "id": "NubAwtwXQNHv",
        "colab": {
          "base_uri": "https://localhost:8080/",
          "height": 419
        },
        "outputId": "3cfe1b24-5813-4732-d1c1-b9134d9a29c2"
      },
      "source": [
        "finalarray=np.zeros([height*3*width*3], dtype = int)\n",
        "df= pd.DataFrame(columns=['zero'],data=finalarray)\n",
        "df"
      ],
      "execution_count": null,
      "outputs": [
        {
          "output_type": "execute_result",
          "data": {
            "text/html": [
              "<div>\n",
              "<style scoped>\n",
              "    .dataframe tbody tr th:only-of-type {\n",
              "        vertical-align: middle;\n",
              "    }\n",
              "\n",
              "    .dataframe tbody tr th {\n",
              "        vertical-align: top;\n",
              "    }\n",
              "\n",
              "    .dataframe thead th {\n",
              "        text-align: right;\n",
              "    }\n",
              "</style>\n",
              "<table border=\"1\" class=\"dataframe\">\n",
              "  <thead>\n",
              "    <tr style=\"text-align: right;\">\n",
              "      <th></th>\n",
              "      <th>zero</th>\n",
              "    </tr>\n",
              "  </thead>\n",
              "  <tbody>\n",
              "    <tr>\n",
              "      <th>0</th>\n",
              "      <td>0</td>\n",
              "    </tr>\n",
              "    <tr>\n",
              "      <th>1</th>\n",
              "      <td>0</td>\n",
              "    </tr>\n",
              "    <tr>\n",
              "      <th>2</th>\n",
              "      <td>0</td>\n",
              "    </tr>\n",
              "    <tr>\n",
              "      <th>3</th>\n",
              "      <td>0</td>\n",
              "    </tr>\n",
              "    <tr>\n",
              "      <th>4</th>\n",
              "      <td>0</td>\n",
              "    </tr>\n",
              "    <tr>\n",
              "      <th>...</th>\n",
              "      <td>...</td>\n",
              "    </tr>\n",
              "    <tr>\n",
              "      <th>25004128</th>\n",
              "      <td>0</td>\n",
              "    </tr>\n",
              "    <tr>\n",
              "      <th>25004129</th>\n",
              "      <td>0</td>\n",
              "    </tr>\n",
              "    <tr>\n",
              "      <th>25004130</th>\n",
              "      <td>0</td>\n",
              "    </tr>\n",
              "    <tr>\n",
              "      <th>25004131</th>\n",
              "      <td>0</td>\n",
              "    </tr>\n",
              "    <tr>\n",
              "      <th>25004132</th>\n",
              "      <td>0</td>\n",
              "    </tr>\n",
              "  </tbody>\n",
              "</table>\n",
              "<p>25004133 rows × 1 columns</p>\n",
              "</div>"
            ],
            "text/plain": [
              "          zero\n",
              "0            0\n",
              "1            0\n",
              "2            0\n",
              "3            0\n",
              "4            0\n",
              "...        ...\n",
              "25004128     0\n",
              "25004129     0\n",
              "25004130     0\n",
              "25004131     0\n",
              "25004132     0\n",
              "\n",
              "[25004133 rows x 1 columns]"
            ]
          },
          "metadata": {
            "tags": []
          },
          "execution_count": 94
        }
      ]
    },
    {
      "cell_type": "code",
      "metadata": {
        "id": "T_ALo-P1YV0m"
      },
      "source": [
        "def latitude_final(n):\n",
        "    return origin_y + (n/(width*3) * pixel_res_y/3.0)\n",
        "def longitude_final(n):\n",
        "    return origin_x + (n%(width*3) * pixel_res_x/3.0)"
      ],
      "execution_count": null,
      "outputs": []
    },
    {
      "cell_type": "code",
      "metadata": {
        "id": "QZF0C2vobkmo"
      },
      "source": [
        "df['index1']=df.index\n",
        "df['latitude']=df.index1.apply(latitude_final)\n",
        "df['longitude']=df.index1.apply(longitude_final)"
      ],
      "execution_count": null,
      "outputs": []
    },
    {
      "cell_type": "code",
      "metadata": {
        "id": "ZjUY1lGzeDGF"
      },
      "source": [
        "df=df.drop(columns=['index1','zero'],axis=1)\n",
        "df['latitude_index']= df.latitude.apply(get_latitude_index)\n",
        "df['longitude_index']= df.longitude.apply(get_longitude_index)\n",
        "df['container_box_id']=(df['latitude_index'])*(width)+df['longitude_index']\n",
        "df=df.drop(['latitude_index'],axis=1)\n",
        "df=df.drop(['longitude_index'],axis=1)\n",
        "df[\"container_box_id\"] = df[\"container_box_id\"].astype(int)"
      ],
      "execution_count": null,
      "outputs": []
    },
    {
      "cell_type": "code",
      "metadata": {
        "id": "HvuUvcsoiUP0"
      },
      "source": [
        "final_merged_df = df.merge(dem_df, left_on='container_box_id', right_index = True)\n",
        "final_merged_df.drop(columns = ['container_box_id'], inplace = True)"
      ],
      "execution_count": null,
      "outputs": []
    },
    {
      "cell_type": "code",
      "metadata": {
        "colab": {
          "base_uri": "https://localhost:8080/",
          "height": 419
        },
        "id": "ZE97A3smhdYJ",
        "outputId": "b01e44a5-321c-4d1d-963d-fd246e0931a4"
      },
      "source": [
        "final_merged_df"
      ],
      "execution_count": null,
      "outputs": [
        {
          "output_type": "execute_result",
          "data": {
            "text/html": [
              "<div>\n",
              "<style scoped>\n",
              "    .dataframe tbody tr th:only-of-type {\n",
              "        vertical-align: middle;\n",
              "    }\n",
              "\n",
              "    .dataframe tbody tr th {\n",
              "        vertical-align: top;\n",
              "    }\n",
              "\n",
              "    .dataframe thead th {\n",
              "        text-align: right;\n",
              "    }\n",
              "</style>\n",
              "<table border=\"1\" class=\"dataframe\">\n",
              "  <thead>\n",
              "    <tr style=\"text-align: right;\">\n",
              "      <th></th>\n",
              "      <th>latitude_x</th>\n",
              "      <th>longitude_x</th>\n",
              "      <th>latitude_y</th>\n",
              "      <th>longitude_y</th>\n",
              "      <th>dem height</th>\n",
              "    </tr>\n",
              "  </thead>\n",
              "  <tbody>\n",
              "    <tr>\n",
              "      <th>0</th>\n",
              "      <td>27.874028</td>\n",
              "      <td>88.028194</td>\n",
              "      <td>27.874028</td>\n",
              "      <td>88.028194</td>\n",
              "      <td>5822.103516</td>\n",
              "    </tr>\n",
              "    <tr>\n",
              "      <th>1</th>\n",
              "      <td>27.874028</td>\n",
              "      <td>88.028287</td>\n",
              "      <td>27.874028</td>\n",
              "      <td>88.028194</td>\n",
              "      <td>5822.103516</td>\n",
              "    </tr>\n",
              "    <tr>\n",
              "      <th>2</th>\n",
              "      <td>27.874028</td>\n",
              "      <td>88.028380</td>\n",
              "      <td>27.874028</td>\n",
              "      <td>88.028194</td>\n",
              "      <td>5822.103516</td>\n",
              "    </tr>\n",
              "    <tr>\n",
              "      <th>6963</th>\n",
              "      <td>27.873935</td>\n",
              "      <td>88.028194</td>\n",
              "      <td>27.874028</td>\n",
              "      <td>88.028194</td>\n",
              "      <td>5822.103516</td>\n",
              "    </tr>\n",
              "    <tr>\n",
              "      <th>6964</th>\n",
              "      <td>27.873935</td>\n",
              "      <td>88.028287</td>\n",
              "      <td>27.874028</td>\n",
              "      <td>88.028194</td>\n",
              "      <td>5822.103516</td>\n",
              "    </tr>\n",
              "    <tr>\n",
              "      <th>...</th>\n",
              "      <td>...</td>\n",
              "      <td>...</td>\n",
              "      <td>...</td>\n",
              "      <td>...</td>\n",
              "      <td>...</td>\n",
              "    </tr>\n",
              "    <tr>\n",
              "      <th>24997168</th>\n",
              "      <td>27.541620</td>\n",
              "      <td>88.672731</td>\n",
              "      <td>27.541528</td>\n",
              "      <td>88.672639</td>\n",
              "      <td>1862.879517</td>\n",
              "    </tr>\n",
              "    <tr>\n",
              "      <th>24997169</th>\n",
              "      <td>27.541620</td>\n",
              "      <td>88.672824</td>\n",
              "      <td>27.541528</td>\n",
              "      <td>88.672639</td>\n",
              "      <td>1862.879517</td>\n",
              "    </tr>\n",
              "    <tr>\n",
              "      <th>25004130</th>\n",
              "      <td>27.541528</td>\n",
              "      <td>88.672639</td>\n",
              "      <td>27.541528</td>\n",
              "      <td>88.672639</td>\n",
              "      <td>1862.879517</td>\n",
              "    </tr>\n",
              "    <tr>\n",
              "      <th>25004131</th>\n",
              "      <td>27.541528</td>\n",
              "      <td>88.672731</td>\n",
              "      <td>27.541528</td>\n",
              "      <td>88.672639</td>\n",
              "      <td>1862.879517</td>\n",
              "    </tr>\n",
              "    <tr>\n",
              "      <th>25004132</th>\n",
              "      <td>27.541528</td>\n",
              "      <td>88.672824</td>\n",
              "      <td>27.541528</td>\n",
              "      <td>88.672639</td>\n",
              "      <td>1862.879517</td>\n",
              "    </tr>\n",
              "  </tbody>\n",
              "</table>\n",
              "<p>25004133 rows × 5 columns</p>\n",
              "</div>"
            ],
            "text/plain": [
              "          latitude_x  longitude_x  latitude_y  longitude_y   dem height\n",
              "0          27.874028    88.028194   27.874028    88.028194  5822.103516\n",
              "1          27.874028    88.028287   27.874028    88.028194  5822.103516\n",
              "2          27.874028    88.028380   27.874028    88.028194  5822.103516\n",
              "6963       27.873935    88.028194   27.874028    88.028194  5822.103516\n",
              "6964       27.873935    88.028287   27.874028    88.028194  5822.103516\n",
              "...              ...          ...         ...          ...          ...\n",
              "24997168   27.541620    88.672731   27.541528    88.672639  1862.879517\n",
              "24997169   27.541620    88.672824   27.541528    88.672639  1862.879517\n",
              "25004130   27.541528    88.672639   27.541528    88.672639  1862.879517\n",
              "25004131   27.541528    88.672731   27.541528    88.672639  1862.879517\n",
              "25004132   27.541528    88.672824   27.541528    88.672639  1862.879517\n",
              "\n",
              "[25004133 rows x 5 columns]"
            ]
          },
          "metadata": {
            "tags": []
          },
          "execution_count": 99
        }
      ]
    },
    {
      "cell_type": "code",
      "metadata": {
        "colab": {
          "base_uri": "https://localhost:8080/",
          "height": 419
        },
        "id": "GxYPrzryhJDl",
        "outputId": "99498721-b3b3-4e06-c8fa-d306bb8c797b"
      },
      "source": [
        "final_merged_df.sort_index()"
      ],
      "execution_count": null,
      "outputs": [
        {
          "output_type": "execute_result",
          "data": {
            "text/html": [
              "<div>\n",
              "<style scoped>\n",
              "    .dataframe tbody tr th:only-of-type {\n",
              "        vertical-align: middle;\n",
              "    }\n",
              "\n",
              "    .dataframe tbody tr th {\n",
              "        vertical-align: top;\n",
              "    }\n",
              "\n",
              "    .dataframe thead th {\n",
              "        text-align: right;\n",
              "    }\n",
              "</style>\n",
              "<table border=\"1\" class=\"dataframe\">\n",
              "  <thead>\n",
              "    <tr style=\"text-align: right;\">\n",
              "      <th></th>\n",
              "      <th>latitude_x</th>\n",
              "      <th>longitude_x</th>\n",
              "      <th>latitude_y</th>\n",
              "      <th>longitude_y</th>\n",
              "      <th>dem height</th>\n",
              "    </tr>\n",
              "  </thead>\n",
              "  <tbody>\n",
              "    <tr>\n",
              "      <th>0</th>\n",
              "      <td>27.874028</td>\n",
              "      <td>88.028194</td>\n",
              "      <td>27.874028</td>\n",
              "      <td>88.028194</td>\n",
              "      <td>5822.103516</td>\n",
              "    </tr>\n",
              "    <tr>\n",
              "      <th>1</th>\n",
              "      <td>27.874028</td>\n",
              "      <td>88.028287</td>\n",
              "      <td>27.874028</td>\n",
              "      <td>88.028194</td>\n",
              "      <td>5822.103516</td>\n",
              "    </tr>\n",
              "    <tr>\n",
              "      <th>2</th>\n",
              "      <td>27.874028</td>\n",
              "      <td>88.028380</td>\n",
              "      <td>27.874028</td>\n",
              "      <td>88.028194</td>\n",
              "      <td>5822.103516</td>\n",
              "    </tr>\n",
              "    <tr>\n",
              "      <th>3</th>\n",
              "      <td>27.874028</td>\n",
              "      <td>88.028472</td>\n",
              "      <td>27.874028</td>\n",
              "      <td>88.028472</td>\n",
              "      <td>5805.104492</td>\n",
              "    </tr>\n",
              "    <tr>\n",
              "      <th>4</th>\n",
              "      <td>27.874028</td>\n",
              "      <td>88.028565</td>\n",
              "      <td>27.874028</td>\n",
              "      <td>88.028472</td>\n",
              "      <td>5805.104492</td>\n",
              "    </tr>\n",
              "    <tr>\n",
              "      <th>...</th>\n",
              "      <td>...</td>\n",
              "      <td>...</td>\n",
              "      <td>...</td>\n",
              "      <td>...</td>\n",
              "      <td>...</td>\n",
              "    </tr>\n",
              "    <tr>\n",
              "      <th>25004128</th>\n",
              "      <td>27.541528</td>\n",
              "      <td>88.672454</td>\n",
              "      <td>27.541528</td>\n",
              "      <td>88.672361</td>\n",
              "      <td>1801.878052</td>\n",
              "    </tr>\n",
              "    <tr>\n",
              "      <th>25004129</th>\n",
              "      <td>27.541528</td>\n",
              "      <td>88.672546</td>\n",
              "      <td>27.541528</td>\n",
              "      <td>88.672361</td>\n",
              "      <td>1801.878052</td>\n",
              "    </tr>\n",
              "    <tr>\n",
              "      <th>25004130</th>\n",
              "      <td>27.541528</td>\n",
              "      <td>88.672639</td>\n",
              "      <td>27.541528</td>\n",
              "      <td>88.672639</td>\n",
              "      <td>1862.879517</td>\n",
              "    </tr>\n",
              "    <tr>\n",
              "      <th>25004131</th>\n",
              "      <td>27.541528</td>\n",
              "      <td>88.672731</td>\n",
              "      <td>27.541528</td>\n",
              "      <td>88.672639</td>\n",
              "      <td>1862.879517</td>\n",
              "    </tr>\n",
              "    <tr>\n",
              "      <th>25004132</th>\n",
              "      <td>27.541528</td>\n",
              "      <td>88.672824</td>\n",
              "      <td>27.541528</td>\n",
              "      <td>88.672639</td>\n",
              "      <td>1862.879517</td>\n",
              "    </tr>\n",
              "  </tbody>\n",
              "</table>\n",
              "<p>25004133 rows × 5 columns</p>\n",
              "</div>"
            ],
            "text/plain": [
              "          latitude_x  longitude_x  latitude_y  longitude_y   dem height\n",
              "0          27.874028    88.028194   27.874028    88.028194  5822.103516\n",
              "1          27.874028    88.028287   27.874028    88.028194  5822.103516\n",
              "2          27.874028    88.028380   27.874028    88.028194  5822.103516\n",
              "3          27.874028    88.028472   27.874028    88.028472  5805.104492\n",
              "4          27.874028    88.028565   27.874028    88.028472  5805.104492\n",
              "...              ...          ...         ...          ...          ...\n",
              "25004128   27.541528    88.672454   27.541528    88.672361  1801.878052\n",
              "25004129   27.541528    88.672546   27.541528    88.672361  1801.878052\n",
              "25004130   27.541528    88.672639   27.541528    88.672639  1862.879517\n",
              "25004131   27.541528    88.672731   27.541528    88.672639  1862.879517\n",
              "25004132   27.541528    88.672824   27.541528    88.672639  1862.879517\n",
              "\n",
              "[25004133 rows x 5 columns]"
            ]
          },
          "metadata": {
            "tags": []
          },
          "execution_count": 100
        }
      ]
    },
    {
      "cell_type": "code",
      "metadata": {
        "colab": {
          "base_uri": "https://localhost:8080/",
          "height": 419
        },
        "id": "xGqH5YqqYZg4",
        "outputId": "06023b75-e5d3-45da-f39c-6ec7277b49f3"
      },
      "source": [
        "final_merged_df.head(6963)"
      ],
      "execution_count": null,
      "outputs": [
        {
          "output_type": "execute_result",
          "data": {
            "text/html": [
              "<div>\n",
              "<style scoped>\n",
              "    .dataframe tbody tr th:only-of-type {\n",
              "        vertical-align: middle;\n",
              "    }\n",
              "\n",
              "    .dataframe tbody tr th {\n",
              "        vertical-align: top;\n",
              "    }\n",
              "\n",
              "    .dataframe thead th {\n",
              "        text-align: right;\n",
              "    }\n",
              "</style>\n",
              "<table border=\"1\" class=\"dataframe\">\n",
              "  <thead>\n",
              "    <tr style=\"text-align: right;\">\n",
              "      <th></th>\n",
              "      <th>latitude_x</th>\n",
              "      <th>longitude_x</th>\n",
              "      <th>latitude_y</th>\n",
              "      <th>longitude_y</th>\n",
              "      <th>dem height</th>\n",
              "    </tr>\n",
              "  </thead>\n",
              "  <tbody>\n",
              "    <tr>\n",
              "      <th>0</th>\n",
              "      <td>27.874028</td>\n",
              "      <td>88.028194</td>\n",
              "      <td>27.874028</td>\n",
              "      <td>88.028194</td>\n",
              "      <td>5822.103516</td>\n",
              "    </tr>\n",
              "    <tr>\n",
              "      <th>1</th>\n",
              "      <td>27.874028</td>\n",
              "      <td>88.028287</td>\n",
              "      <td>27.874028</td>\n",
              "      <td>88.028194</td>\n",
              "      <td>5822.103516</td>\n",
              "    </tr>\n",
              "    <tr>\n",
              "      <th>2</th>\n",
              "      <td>27.874028</td>\n",
              "      <td>88.028380</td>\n",
              "      <td>27.874028</td>\n",
              "      <td>88.028194</td>\n",
              "      <td>5822.103516</td>\n",
              "    </tr>\n",
              "    <tr>\n",
              "      <th>6963</th>\n",
              "      <td>27.873935</td>\n",
              "      <td>88.028194</td>\n",
              "      <td>27.874028</td>\n",
              "      <td>88.028194</td>\n",
              "      <td>5822.103516</td>\n",
              "    </tr>\n",
              "    <tr>\n",
              "      <th>6964</th>\n",
              "      <td>27.873935</td>\n",
              "      <td>88.028287</td>\n",
              "      <td>27.874028</td>\n",
              "      <td>88.028194</td>\n",
              "      <td>5822.103516</td>\n",
              "    </tr>\n",
              "    <tr>\n",
              "      <th>...</th>\n",
              "      <td>...</td>\n",
              "      <td>...</td>\n",
              "      <td>...</td>\n",
              "      <td>...</td>\n",
              "      <td>...</td>\n",
              "    </tr>\n",
              "    <tr>\n",
              "      <th>16244</th>\n",
              "      <td>27.873812</td>\n",
              "      <td>88.242824</td>\n",
              "      <td>27.873935</td>\n",
              "      <td>88.242639</td>\n",
              "      <td>5423.888184</td>\n",
              "    </tr>\n",
              "    <tr>\n",
              "      <th>16245</th>\n",
              "      <td>27.873812</td>\n",
              "      <td>88.242917</td>\n",
              "      <td>27.873935</td>\n",
              "      <td>88.242639</td>\n",
              "      <td>5423.888184</td>\n",
              "    </tr>\n",
              "    <tr>\n",
              "      <th>2320</th>\n",
              "      <td>27.873997</td>\n",
              "      <td>88.243009</td>\n",
              "      <td>27.873935</td>\n",
              "      <td>88.242917</td>\n",
              "      <td>5414.889160</td>\n",
              "    </tr>\n",
              "    <tr>\n",
              "      <th>2321</th>\n",
              "      <td>27.873997</td>\n",
              "      <td>88.243102</td>\n",
              "      <td>27.873935</td>\n",
              "      <td>88.242917</td>\n",
              "      <td>5414.889160</td>\n",
              "    </tr>\n",
              "    <tr>\n",
              "      <th>9283</th>\n",
              "      <td>27.873904</td>\n",
              "      <td>88.243009</td>\n",
              "      <td>27.873935</td>\n",
              "      <td>88.242917</td>\n",
              "      <td>5414.889160</td>\n",
              "    </tr>\n",
              "  </tbody>\n",
              "</table>\n",
              "<p>6963 rows × 5 columns</p>\n",
              "</div>"
            ],
            "text/plain": [
              "       latitude_x  longitude_x  latitude_y  longitude_y   dem height\n",
              "0       27.874028    88.028194   27.874028    88.028194  5822.103516\n",
              "1       27.874028    88.028287   27.874028    88.028194  5822.103516\n",
              "2       27.874028    88.028380   27.874028    88.028194  5822.103516\n",
              "6963    27.873935    88.028194   27.874028    88.028194  5822.103516\n",
              "6964    27.873935    88.028287   27.874028    88.028194  5822.103516\n",
              "...           ...          ...         ...          ...          ...\n",
              "16244   27.873812    88.242824   27.873935    88.242639  5423.888184\n",
              "16245   27.873812    88.242917   27.873935    88.242639  5423.888184\n",
              "2320    27.873997    88.243009   27.873935    88.242917  5414.889160\n",
              "2321    27.873997    88.243102   27.873935    88.242917  5414.889160\n",
              "9283    27.873904    88.243009   27.873935    88.242917  5414.889160\n",
              "\n",
              "[6963 rows x 5 columns]"
            ]
          },
          "metadata": {
            "tags": []
          },
          "execution_count": 101
        }
      ]
    },
    {
      "cell_type": "code",
      "metadata": {
        "id": "1C1ylQtohe0G"
      },
      "source": [
        "X = final_merged_df"
      ],
      "execution_count": null,
      "outputs": []
    },
    {
      "cell_type": "code",
      "metadata": {
        "colab": {
          "base_uri": "https://localhost:8080/",
          "height": 419
        },
        "id": "9zOdmqXJysmN",
        "outputId": "e54959e2-9e00-43e2-9024-014b1ab7f611"
      },
      "source": [
        "predictions = model.predict(X)\n",
        "final_merged_df['height']=predictions\n",
        "final_merged_df"
      ],
      "execution_count": null,
      "outputs": [
        {
          "output_type": "execute_result",
          "data": {
            "text/html": [
              "<div>\n",
              "<style scoped>\n",
              "    .dataframe tbody tr th:only-of-type {\n",
              "        vertical-align: middle;\n",
              "    }\n",
              "\n",
              "    .dataframe tbody tr th {\n",
              "        vertical-align: top;\n",
              "    }\n",
              "\n",
              "    .dataframe thead th {\n",
              "        text-align: right;\n",
              "    }\n",
              "</style>\n",
              "<table border=\"1\" class=\"dataframe\">\n",
              "  <thead>\n",
              "    <tr style=\"text-align: right;\">\n",
              "      <th></th>\n",
              "      <th>latitude_x</th>\n",
              "      <th>longitude_x</th>\n",
              "      <th>latitude_y</th>\n",
              "      <th>longitude_y</th>\n",
              "      <th>dem height</th>\n",
              "      <th>height</th>\n",
              "    </tr>\n",
              "  </thead>\n",
              "  <tbody>\n",
              "    <tr>\n",
              "      <th>0</th>\n",
              "      <td>27.874028</td>\n",
              "      <td>88.028194</td>\n",
              "      <td>27.874028</td>\n",
              "      <td>88.028194</td>\n",
              "      <td>5822.103516</td>\n",
              "      <td>5817.748144</td>\n",
              "    </tr>\n",
              "    <tr>\n",
              "      <th>1</th>\n",
              "      <td>27.874028</td>\n",
              "      <td>88.028287</td>\n",
              "      <td>27.874028</td>\n",
              "      <td>88.028194</td>\n",
              "      <td>5822.103516</td>\n",
              "      <td>5817.748144</td>\n",
              "    </tr>\n",
              "    <tr>\n",
              "      <th>2</th>\n",
              "      <td>27.874028</td>\n",
              "      <td>88.028380</td>\n",
              "      <td>27.874028</td>\n",
              "      <td>88.028194</td>\n",
              "      <td>5822.103516</td>\n",
              "      <td>5817.748144</td>\n",
              "    </tr>\n",
              "    <tr>\n",
              "      <th>6963</th>\n",
              "      <td>27.873935</td>\n",
              "      <td>88.028194</td>\n",
              "      <td>27.874028</td>\n",
              "      <td>88.028194</td>\n",
              "      <td>5822.103516</td>\n",
              "      <td>5817.748144</td>\n",
              "    </tr>\n",
              "    <tr>\n",
              "      <th>6964</th>\n",
              "      <td>27.873935</td>\n",
              "      <td>88.028287</td>\n",
              "      <td>27.874028</td>\n",
              "      <td>88.028194</td>\n",
              "      <td>5822.103516</td>\n",
              "      <td>5817.748144</td>\n",
              "    </tr>\n",
              "    <tr>\n",
              "      <th>...</th>\n",
              "      <td>...</td>\n",
              "      <td>...</td>\n",
              "      <td>...</td>\n",
              "      <td>...</td>\n",
              "      <td>...</td>\n",
              "      <td>...</td>\n",
              "    </tr>\n",
              "    <tr>\n",
              "      <th>24997168</th>\n",
              "      <td>27.541620</td>\n",
              "      <td>88.672731</td>\n",
              "      <td>27.541528</td>\n",
              "      <td>88.672639</td>\n",
              "      <td>1862.879517</td>\n",
              "      <td>1880.300099</td>\n",
              "    </tr>\n",
              "    <tr>\n",
              "      <th>24997169</th>\n",
              "      <td>27.541620</td>\n",
              "      <td>88.672824</td>\n",
              "      <td>27.541528</td>\n",
              "      <td>88.672639</td>\n",
              "      <td>1862.879517</td>\n",
              "      <td>1880.300099</td>\n",
              "    </tr>\n",
              "    <tr>\n",
              "      <th>25004130</th>\n",
              "      <td>27.541528</td>\n",
              "      <td>88.672639</td>\n",
              "      <td>27.541528</td>\n",
              "      <td>88.672639</td>\n",
              "      <td>1862.879517</td>\n",
              "      <td>1880.300099</td>\n",
              "    </tr>\n",
              "    <tr>\n",
              "      <th>25004131</th>\n",
              "      <td>27.541528</td>\n",
              "      <td>88.672731</td>\n",
              "      <td>27.541528</td>\n",
              "      <td>88.672639</td>\n",
              "      <td>1862.879517</td>\n",
              "      <td>1880.300099</td>\n",
              "    </tr>\n",
              "    <tr>\n",
              "      <th>25004132</th>\n",
              "      <td>27.541528</td>\n",
              "      <td>88.672824</td>\n",
              "      <td>27.541528</td>\n",
              "      <td>88.672639</td>\n",
              "      <td>1862.879517</td>\n",
              "      <td>1880.300099</td>\n",
              "    </tr>\n",
              "  </tbody>\n",
              "</table>\n",
              "<p>25004133 rows × 6 columns</p>\n",
              "</div>"
            ],
            "text/plain": [
              "          latitude_x  longitude_x  ...   dem height       height\n",
              "0          27.874028    88.028194  ...  5822.103516  5817.748144\n",
              "1          27.874028    88.028287  ...  5822.103516  5817.748144\n",
              "2          27.874028    88.028380  ...  5822.103516  5817.748144\n",
              "6963       27.873935    88.028194  ...  5822.103516  5817.748144\n",
              "6964       27.873935    88.028287  ...  5822.103516  5817.748144\n",
              "...              ...          ...  ...          ...          ...\n",
              "24997168   27.541620    88.672731  ...  1862.879517  1880.300099\n",
              "24997169   27.541620    88.672824  ...  1862.879517  1880.300099\n",
              "25004130   27.541528    88.672639  ...  1862.879517  1880.300099\n",
              "25004131   27.541528    88.672731  ...  1862.879517  1880.300099\n",
              "25004132   27.541528    88.672824  ...  1862.879517  1880.300099\n",
              "\n",
              "[25004133 rows x 6 columns]"
            ]
          },
          "metadata": {
            "tags": []
          },
          "execution_count": 103
        }
      ]
    },
    {
      "cell_type": "code",
      "metadata": {
        "colab": {
          "base_uri": "https://localhost:8080/",
          "height": 419
        },
        "id": "FnTzDVO44cbc",
        "outputId": "05e5d8c1-d40d-4a5d-888b-6cbbe6ac89f1"
      },
      "source": [
        "final_merged_df"
      ],
      "execution_count": null,
      "outputs": [
        {
          "output_type": "execute_result",
          "data": {
            "text/html": [
              "<div>\n",
              "<style scoped>\n",
              "    .dataframe tbody tr th:only-of-type {\n",
              "        vertical-align: middle;\n",
              "    }\n",
              "\n",
              "    .dataframe tbody tr th {\n",
              "        vertical-align: top;\n",
              "    }\n",
              "\n",
              "    .dataframe thead th {\n",
              "        text-align: right;\n",
              "    }\n",
              "</style>\n",
              "<table border=\"1\" class=\"dataframe\">\n",
              "  <thead>\n",
              "    <tr style=\"text-align: right;\">\n",
              "      <th></th>\n",
              "      <th>latitude_x</th>\n",
              "      <th>longitude_x</th>\n",
              "      <th>latitude_y</th>\n",
              "      <th>longitude_y</th>\n",
              "      <th>dem height</th>\n",
              "      <th>height</th>\n",
              "    </tr>\n",
              "  </thead>\n",
              "  <tbody>\n",
              "    <tr>\n",
              "      <th>0</th>\n",
              "      <td>27.874028</td>\n",
              "      <td>88.028194</td>\n",
              "      <td>27.874028</td>\n",
              "      <td>88.028194</td>\n",
              "      <td>5822.103516</td>\n",
              "      <td>5817.748144</td>\n",
              "    </tr>\n",
              "    <tr>\n",
              "      <th>1</th>\n",
              "      <td>27.874028</td>\n",
              "      <td>88.028287</td>\n",
              "      <td>27.874028</td>\n",
              "      <td>88.028194</td>\n",
              "      <td>5822.103516</td>\n",
              "      <td>5817.748144</td>\n",
              "    </tr>\n",
              "    <tr>\n",
              "      <th>2</th>\n",
              "      <td>27.874028</td>\n",
              "      <td>88.028380</td>\n",
              "      <td>27.874028</td>\n",
              "      <td>88.028194</td>\n",
              "      <td>5822.103516</td>\n",
              "      <td>5817.748144</td>\n",
              "    </tr>\n",
              "    <tr>\n",
              "      <th>6963</th>\n",
              "      <td>27.873935</td>\n",
              "      <td>88.028194</td>\n",
              "      <td>27.874028</td>\n",
              "      <td>88.028194</td>\n",
              "      <td>5822.103516</td>\n",
              "      <td>5817.748144</td>\n",
              "    </tr>\n",
              "    <tr>\n",
              "      <th>6964</th>\n",
              "      <td>27.873935</td>\n",
              "      <td>88.028287</td>\n",
              "      <td>27.874028</td>\n",
              "      <td>88.028194</td>\n",
              "      <td>5822.103516</td>\n",
              "      <td>5817.748144</td>\n",
              "    </tr>\n",
              "    <tr>\n",
              "      <th>...</th>\n",
              "      <td>...</td>\n",
              "      <td>...</td>\n",
              "      <td>...</td>\n",
              "      <td>...</td>\n",
              "      <td>...</td>\n",
              "      <td>...</td>\n",
              "    </tr>\n",
              "    <tr>\n",
              "      <th>24997168</th>\n",
              "      <td>27.541620</td>\n",
              "      <td>88.672731</td>\n",
              "      <td>27.541528</td>\n",
              "      <td>88.672639</td>\n",
              "      <td>1862.879517</td>\n",
              "      <td>1880.300099</td>\n",
              "    </tr>\n",
              "    <tr>\n",
              "      <th>24997169</th>\n",
              "      <td>27.541620</td>\n",
              "      <td>88.672824</td>\n",
              "      <td>27.541528</td>\n",
              "      <td>88.672639</td>\n",
              "      <td>1862.879517</td>\n",
              "      <td>1880.300099</td>\n",
              "    </tr>\n",
              "    <tr>\n",
              "      <th>25004130</th>\n",
              "      <td>27.541528</td>\n",
              "      <td>88.672639</td>\n",
              "      <td>27.541528</td>\n",
              "      <td>88.672639</td>\n",
              "      <td>1862.879517</td>\n",
              "      <td>1880.300099</td>\n",
              "    </tr>\n",
              "    <tr>\n",
              "      <th>25004131</th>\n",
              "      <td>27.541528</td>\n",
              "      <td>88.672731</td>\n",
              "      <td>27.541528</td>\n",
              "      <td>88.672639</td>\n",
              "      <td>1862.879517</td>\n",
              "      <td>1880.300099</td>\n",
              "    </tr>\n",
              "    <tr>\n",
              "      <th>25004132</th>\n",
              "      <td>27.541528</td>\n",
              "      <td>88.672824</td>\n",
              "      <td>27.541528</td>\n",
              "      <td>88.672639</td>\n",
              "      <td>1862.879517</td>\n",
              "      <td>1880.300099</td>\n",
              "    </tr>\n",
              "  </tbody>\n",
              "</table>\n",
              "<p>25004133 rows × 6 columns</p>\n",
              "</div>"
            ],
            "text/plain": [
              "          latitude_x  longitude_x  ...   dem height       height\n",
              "0          27.874028    88.028194  ...  5822.103516  5817.748144\n",
              "1          27.874028    88.028287  ...  5822.103516  5817.748144\n",
              "2          27.874028    88.028380  ...  5822.103516  5817.748144\n",
              "6963       27.873935    88.028194  ...  5822.103516  5817.748144\n",
              "6964       27.873935    88.028287  ...  5822.103516  5817.748144\n",
              "...              ...          ...  ...          ...          ...\n",
              "24997168   27.541620    88.672731  ...  1862.879517  1880.300099\n",
              "24997169   27.541620    88.672824  ...  1862.879517  1880.300099\n",
              "25004130   27.541528    88.672639  ...  1862.879517  1880.300099\n",
              "25004131   27.541528    88.672731  ...  1862.879517  1880.300099\n",
              "25004132   27.541528    88.672824  ...  1862.879517  1880.300099\n",
              "\n",
              "[25004133 rows x 6 columns]"
            ]
          },
          "metadata": {
            "tags": []
          },
          "execution_count": 104
        }
      ]
    },
    {
      "cell_type": "code",
      "metadata": {
        "id": "PJdPcLjWhZ5-"
      },
      "source": [
        "final_merged_df=final_merged_df.sort_index()"
      ],
      "execution_count": null,
      "outputs": []
    },
    {
      "cell_type": "code",
      "metadata": {
        "id": "wen4rw_W_tH1"
      },
      "source": [
        "final_merged_df=final_merged_df.drop(columns=['latitude_x','longitude_x','latitude_y','longitude_y','dem height'])"
      ],
      "execution_count": null,
      "outputs": []
    },
    {
      "cell_type": "code",
      "metadata": {
        "colab": {
          "base_uri": "https://localhost:8080/",
          "height": 419
        },
        "id": "pKRravUoAwRb",
        "outputId": "e2a812f4-e880-419b-a64d-6033ccdd2aa0"
      },
      "source": [
        "final_merged_df"
      ],
      "execution_count": null,
      "outputs": [
        {
          "output_type": "execute_result",
          "data": {
            "text/html": [
              "<div>\n",
              "<style scoped>\n",
              "    .dataframe tbody tr th:only-of-type {\n",
              "        vertical-align: middle;\n",
              "    }\n",
              "\n",
              "    .dataframe tbody tr th {\n",
              "        vertical-align: top;\n",
              "    }\n",
              "\n",
              "    .dataframe thead th {\n",
              "        text-align: right;\n",
              "    }\n",
              "</style>\n",
              "<table border=\"1\" class=\"dataframe\">\n",
              "  <thead>\n",
              "    <tr style=\"text-align: right;\">\n",
              "      <th></th>\n",
              "      <th>height</th>\n",
              "    </tr>\n",
              "  </thead>\n",
              "  <tbody>\n",
              "    <tr>\n",
              "      <th>0</th>\n",
              "      <td>5817.748144</td>\n",
              "    </tr>\n",
              "    <tr>\n",
              "      <th>1</th>\n",
              "      <td>5817.748144</td>\n",
              "    </tr>\n",
              "    <tr>\n",
              "      <th>2</th>\n",
              "      <td>5817.748144</td>\n",
              "    </tr>\n",
              "    <tr>\n",
              "      <th>3</th>\n",
              "      <td>5794.741071</td>\n",
              "    </tr>\n",
              "    <tr>\n",
              "      <th>4</th>\n",
              "      <td>5794.741071</td>\n",
              "    </tr>\n",
              "    <tr>\n",
              "      <th>...</th>\n",
              "      <td>...</td>\n",
              "    </tr>\n",
              "    <tr>\n",
              "      <th>25004128</th>\n",
              "      <td>1793.955026</td>\n",
              "    </tr>\n",
              "    <tr>\n",
              "      <th>25004129</th>\n",
              "      <td>1793.955026</td>\n",
              "    </tr>\n",
              "    <tr>\n",
              "      <th>25004130</th>\n",
              "      <td>1880.300099</td>\n",
              "    </tr>\n",
              "    <tr>\n",
              "      <th>25004131</th>\n",
              "      <td>1880.300099</td>\n",
              "    </tr>\n",
              "    <tr>\n",
              "      <th>25004132</th>\n",
              "      <td>1880.300099</td>\n",
              "    </tr>\n",
              "  </tbody>\n",
              "</table>\n",
              "<p>25004133 rows × 1 columns</p>\n",
              "</div>"
            ],
            "text/plain": [
              "               height\n",
              "0         5817.748144\n",
              "1         5817.748144\n",
              "2         5817.748144\n",
              "3         5794.741071\n",
              "4         5794.741071\n",
              "...               ...\n",
              "25004128  1793.955026\n",
              "25004129  1793.955026\n",
              "25004130  1880.300099\n",
              "25004131  1880.300099\n",
              "25004132  1880.300099\n",
              "\n",
              "[25004133 rows x 1 columns]"
            ]
          },
          "metadata": {
            "tags": []
          },
          "execution_count": 107
        }
      ]
    },
    {
      "cell_type": "code",
      "metadata": {
        "colab": {
          "base_uri": "https://localhost:8080/"
        },
        "id": "UfbY3fkqBNqJ",
        "outputId": "21baa810-6f13-43e5-c530-310c85f70d28"
      },
      "source": [
        "finalarray = final_merged_df.to_numpy()\n",
        "finalarray=finalarray.reshape(height*3 ,width*3)\n",
        "finalarray"
      ],
      "execution_count": null,
      "outputs": [
        {
          "output_type": "execute_result",
          "data": {
            "text/plain": [
              "array([[5817.74814408, 5817.74814408, 5817.74814408, ..., 4685.05179666,\n",
              "        4685.05179666, 4685.05179666],\n",
              "       [5817.74814408, 5817.74814408, 5817.74814408, ..., 4685.05179666,\n",
              "        4685.05179666, 4685.05179666],\n",
              "       [5817.74814408, 5817.74814408, 5817.74814408, ..., 4685.05179666,\n",
              "        4685.05179666, 4685.05179666],\n",
              "       ...,\n",
              "       [4990.37740547, 4990.37740547, 4990.37740547, ..., 1880.30009892,\n",
              "        1880.30009892, 1880.30009892],\n",
              "       [4990.37740547, 4990.37740547, 4990.37740547, ..., 1880.30009892,\n",
              "        1880.30009892, 1880.30009892],\n",
              "       [4990.37740547, 4990.37740547, 4990.37740547, ..., 1880.30009892,\n",
              "        1880.30009892, 1880.30009892]])"
            ]
          },
          "metadata": {
            "tags": []
          },
          "execution_count": 108
        }
      ]
    },
    {
      "cell_type": "code",
      "metadata": {
        "colab": {
          "base_uri": "https://localhost:8080/"
        },
        "id": "pea81TQX9OhM",
        "outputId": "477e0ca8-9860-4244-cdab-f1d6eb206355"
      },
      "source": [
        "dst_filename = 'sikkim2decisiontree2.tiff'\n",
        "x_pixels = width*3  # number of pixels in x\n",
        "y_pixels = height*3  # number of pixels in y\n",
        "driver = gdal.GetDriverByName('GTiff')\n",
        "dataset = driver.Create(dst_filename,x_pixels, y_pixels, 1,gdal.GDT_Float32)\n",
        "dataset.GetRasterBand(1).WriteArray(finalarray)"
      ],
      "execution_count": null,
      "outputs": [
        {
          "output_type": "execute_result",
          "data": {
            "text/plain": [
              "0"
            ]
          },
          "metadata": {
            "tags": []
          },
          "execution_count": 109
        }
      ]
    },
    {
      "cell_type": "code",
      "metadata": {
        "colab": {
          "base_uri": "https://localhost:8080/"
        },
        "id": "ei2MkK7kDRqp",
        "outputId": "05c02b3a-1c46-48d3-a18b-acb51310b5ec"
      },
      "source": [
        "gt"
      ],
      "execution_count": null,
      "outputs": [
        {
          "output_type": "execute_result",
          "data": {
            "text/plain": [
              "(88.02819444448,\n",
              " 0.00027777777777781464,\n",
              " 0.0,\n",
              " 27.87402777777352,\n",
              " 0.0,\n",
              " -0.00027777777777781464)"
            ]
          },
          "metadata": {
            "tags": []
          },
          "execution_count": 110
        }
      ]
    },
    {
      "cell_type": "code",
      "metadata": {
        "id": "LHpw8liDDbm-"
      },
      "source": [
        "gtlist = list(gt)\n",
        "gtlist[1]=gtlist[1]/3\n",
        "gtlist[5]=gtlist[5]/3\n",
        "gt=tuple(gtlist)"
      ],
      "execution_count": null,
      "outputs": []
    },
    {
      "cell_type": "code",
      "metadata": {
        "id": "S0ocjbVmCX72"
      },
      "source": [
        "geotrans = gt  #get GeoTranform from existed 'data0'\n",
        "proj=ds.GetProjection() #you can get from a exsited tif or import \n",
        "dataset.SetGeoTransform(geotrans)\n",
        "dataset.SetProjection(proj)\n",
        "dataset.FlushCache()\n",
        "dataset=None"
      ],
      "execution_count": null,
      "outputs": []
    },
    {
      "cell_type": "code",
      "metadata": {
        "colab": {
          "base_uri": "https://localhost:8080/"
        },
        "id": "1fmSN1PEKAbn",
        "outputId": "f1fb079a-2a99-4a7e-ffda-9fbd27a58817"
      },
      "source": [
        "ls"
      ],
      "execution_count": null,
      "outputs": [
        {
          "output_type": "stream",
          "text": [
            "\u001b[0m\u001b[01;34mdrive\u001b[0m/  \u001b[01;34msample_data\u001b[0m/  sikkim2decisiontree2.tiff  sikkim2decisiontree.tiff\n"
          ],
          "name": "stdout"
        }
      ]
    },
    {
      "cell_type": "code",
      "metadata": {
        "colab": {
          "base_uri": "https://localhost:8080/",
          "height": 17
        },
        "id": "icNdBPvP8hGQ",
        "outputId": "72349642-ffa4-4fe0-fdd9-55101d49bebe"
      },
      "source": [
        "from google.colab import files\n",
        "files.download('sikkim2decisiontree2.tiff')"
      ],
      "execution_count": null,
      "outputs": [
        {
          "output_type": "display_data",
          "data": {
            "application/javascript": [
              "\n",
              "    async function download(id, filename, size) {\n",
              "      if (!google.colab.kernel.accessAllowed) {\n",
              "        return;\n",
              "      }\n",
              "      const div = document.createElement('div');\n",
              "      const label = document.createElement('label');\n",
              "      label.textContent = `Downloading \"${filename}\": `;\n",
              "      div.appendChild(label);\n",
              "      const progress = document.createElement('progress');\n",
              "      progress.max = size;\n",
              "      div.appendChild(progress);\n",
              "      document.body.appendChild(div);\n",
              "\n",
              "      const buffers = [];\n",
              "      let downloaded = 0;\n",
              "\n",
              "      const channel = await google.colab.kernel.comms.open(id);\n",
              "      // Send a message to notify the kernel that we're ready.\n",
              "      channel.send({})\n",
              "\n",
              "      for await (const message of channel.messages) {\n",
              "        // Send a message to notify the kernel that we're ready.\n",
              "        channel.send({})\n",
              "        if (message.buffers) {\n",
              "          for (const buffer of message.buffers) {\n",
              "            buffers.push(buffer);\n",
              "            downloaded += buffer.byteLength;\n",
              "            progress.value = downloaded;\n",
              "          }\n",
              "        }\n",
              "      }\n",
              "      const blob = new Blob(buffers, {type: 'application/binary'});\n",
              "      const a = document.createElement('a');\n",
              "      a.href = window.URL.createObjectURL(blob);\n",
              "      a.download = filename;\n",
              "      div.appendChild(a);\n",
              "      a.click();\n",
              "      div.remove();\n",
              "    }\n",
              "  "
            ],
            "text/plain": [
              "<IPython.core.display.Javascript object>"
            ]
          },
          "metadata": {
            "tags": []
          }
        },
        {
          "output_type": "display_data",
          "data": {
            "application/javascript": [
              "download(\"download_d868e5af-3f0e-4f72-9eea-67747cd7fe48\", \"sikkim2decisiontree2.tiff\", 100045626)"
            ],
            "text/plain": [
              "<IPython.core.display.Javascript object>"
            ]
          },
          "metadata": {
            "tags": []
          }
        }
      ]
    }
  ]
}